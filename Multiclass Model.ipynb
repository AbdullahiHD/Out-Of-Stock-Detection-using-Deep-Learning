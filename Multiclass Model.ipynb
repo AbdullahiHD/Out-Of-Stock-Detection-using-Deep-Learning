{
  "cells": [
    {
      "cell_type": "markdown",
      "metadata": {
        "id": "lBh4betRhOVB"
      },
      "source": [
        "# **MULTI CLASS MODEL**\n",
        "The multiclass model detects and classifies objects in images into predefined categories, such as 'Disorganized' and 'Empty'. It processes input images, predicts bounding boxes for detected objects, and assigns a class label to each object, facilitating for out-of-stock detection and effective product placement management for retail stores using Computer Vision"
      ]
    },
    {
      "cell_type": "markdown",
      "metadata": {
        "id": "av6_nEr-hblO"
      },
      "source": [
        "## **IMPORTING LIBRARIES**"
      ]
    },
    {
      "cell_type": "code",
      "execution_count": 1,
      "metadata": {
        "id": "zvba4ehchLdg"
      },
      "outputs": [],
      "source": [
        "import os\n",
        "import json\n",
        "from PIL import Image\n",
        "import numpy as np\n",
        "from tensorflow.keras.utils import to_categorical\n",
        "from tensorflow.keras.applications.resnet50 import preprocess_input\n",
        "from sklearn.model_selection import train_test_split"
      ]
    },
    {
      "cell_type": "markdown",
      "metadata": {
        "id": "xNvKFB1NhmAX"
      },
      "source": [
        "## **DATA LOADING AND PREPARATION**"
      ]
    },
    {
      "cell_type": "code",
      "execution_count": 2,
      "metadata": {
        "colab": {
          "base_uri": "https://localhost:8080/"
        },
        "id": "7ICvYhPAhrM9",
        "outputId": "a95183b7-69e2-4b82-baca-ee5b85093cfb"
      },
      "outputs": [
        {
          "name": "stdout",
          "output_type": "stream",
          "text": [
            "Mounted at /content/drive\n"
          ]
        }
      ],
      "source": [
        "from google.colab import drive\n",
        "\n",
        "drive.mount('/content/drive')"
      ]
    },
    {
      "cell_type": "code",
      "execution_count": 95,
      "metadata": {
        "id": "42Nl8jkah4EN"
      },
      "outputs": [],
      "source": [
        "# Path to datasets\n",
        "images_dir = '/content/drive/MyDrive/Multiclass dataset/Train/Images'\n",
        "annotations_dir = '/content/drive/MyDrive/Multiclass dataset/Train/Annotations'\n",
        "\n",
        "# Dictionary to map category names to integers\n",
        "categories = {'Empty': 1, 'Disorganized': 0}\n",
        "\n"
      ]
    },
    {
      "cell_type": "markdown",
      "metadata": {
        "id": "Ov-F6PLukKTQ"
      },
      "source": [
        "### This code block loads the train and processes the train data\n",
        " `load_annotations`: Load and normalize annotation labels and bounding boxes.\n",
        "`preprocess_image`: Resize and normalize image for model input."
      ]
    },
    {
      "cell_type": "code",
      "execution_count": 89,
      "metadata": {
        "id": "vHDe4zdtioRu"
      },
      "outputs": [],
      "source": [
        "def load_annotations(annotation_path, image_size):\n",
        "    \"\"\"\n",
        "    Load annotations from a JSON file and normalize bounding box coordinates.\n",
        "\n",
        "    Parameters:\n",
        "    - annotation_path: str, path to the annotation JSON file.\n",
        "    - image_size: tuple, dimensions of the image (height, width).\n",
        "\n",
        "    Returns:\n",
        "    - labels: list, normalized labels corresponding to annotations.\n",
        "    - bboxes: list, normalized bounding box coordinates.\n",
        "    \"\"\"\n",
        "    with open(annotation_path, 'r') as file:\n",
        "        annotations = json.load(file)  # Load annotations from the JSON file\n",
        "\n",
        "    labels = []  # List to store labels\n",
        "    bboxes = []  # List to store bounding boxes\n",
        "\n",
        "    for annotation in annotations:\n",
        "        for ann in annotation['annotations']:\n",
        "            label = ann['label']\n",
        "            if label is None:  # Skip annotations with unrecognized labels\n",
        "                continue\n",
        "            x, y, width, height = ann['coordinates'].values()  # Extract bounding box coordinates\n",
        "\n",
        "            # Normalize bounding box coordinates\n",
        "            norm_x = x / image_size[1]\n",
        "            norm_y = y / image_size[0]\n",
        "            norm_width = width / image_size[1]\n",
        "            norm_height = height / image_size[0]\n",
        "\n",
        "            labels.append(categories[label])  # Append the normalized label\n",
        "            bboxes.append([norm_x, norm_y, norm_width, norm_height])  # Append the normalized bounding box\n",
        "\n",
        "    return labels, bboxes\n",
        "\n",
        "\n",
        "def preprocess_image(image_path):\n",
        "    \"\"\"\n",
        "    Preprocess an image for model input by resizing and normalizing pixel values.\n",
        "\n",
        "    Parameters:\n",
        "    - image_path: str, path to the image file.\n",
        "\n",
        "    Returns:\n",
        "    - image_data: np.array, preprocessed image data ready for model input.\n",
        "    \"\"\"\n",
        "    image = Image.open(image_path)  # Open the image file\n",
        "    image = image.resize((300, 300))  # Resize the image to 300x300 pixels\n",
        "    image_data = np.array(image)  # Convert the image to a numpy array\n",
        "    image_data = preprocess_input(image_data)  # Normalize the pixel values\n",
        "    return image_data\n"
      ]
    },
    {
      "cell_type": "markdown",
      "metadata": {
        "id": "2DFJtI1el8nr"
      },
      "source": [
        "### Pading and one-hot encode labels, pad bounding boxes for annotations."
      ]
    },
    {
      "cell_type": "code",
      "execution_count": 10,
      "metadata": {
        "id": "SeH1S9cektzs"
      },
      "outputs": [],
      "source": [
        "import numpy as np\n",
        "import os\n",
        "from PIL import Image\n",
        "from tensorflow.keras.applications.resnet50 import preprocess_input\n",
        "\n",
        "def pad_annotations(labels, bboxes, max_objects=20, num_classes=2):\n",
        "    \"\"\"\n",
        "    Pad labels and bounding boxes to a fixed size.\n",
        "\n",
        "    Parameters:\n",
        "    - labels: list, list of labels for an image.\n",
        "    - bboxes: list, list of bounding boxes for an image.\n",
        "    - max_objects: int, maximum number of objects to pad (default is 20).\n",
        "    - num_classes: int, number of classes for one-hot encoding (default is 2).\n",
        "\n",
        "    Returns:\n",
        "    - padded_labels: np.array, array of one-hot encoded labels with padding.\n",
        "    - padded_bboxes: np.array, array of bounding boxes with padding.\n",
        "    \"\"\"\n",
        "    padded_labels = np.zeros((max_objects, num_classes), dtype=np.float32)  # Initialize padded labels array\n",
        "    padded_bboxes = np.zeros((max_objects, 4), dtype=np.float32)  # Initialize padded bounding boxes array\n",
        "\n",
        "    # One-hot encoding for labels\n",
        "    num_labels = len(labels)  # Number of labels\n",
        "    for i in range(min(num_labels, max_objects)):\n",
        "        padded_labels[i, labels[i]] = 1  # One-hot encode label\n",
        "        padded_bboxes[i] = bboxes[i]  # Copy bounding box\n",
        "\n",
        "    return padded_labels, padded_bboxes\n"
      ]
    },
    {
      "cell_type": "markdown",
      "metadata": {
        "id": "bVVUphJtmt9v"
      },
      "source": [
        "### Create padded dataset from images and annotations, including labels, bounding boxes, filenames, and object counts."
      ]
    },
    {
      "cell_type": "code",
      "execution_count": 12,
      "metadata": {
        "id": "AS67WZzgkyxt"
      },
      "outputs": [],
      "source": [
        "import numpy as np\n",
        "import os\n",
        "from PIL import Image\n",
        "from tensorflow.keras.applications.resnet50 import preprocess_input\n",
        "\n",
        "def create_padded_dataset(images_dir, annotations_dir, image_size=(300, 300), max_objects=20):\n",
        "    \"\"\"\n",
        "    Create a dataset with padded annotations from images and their corresponding annotations.\n",
        "\n",
        "    Parameters:\n",
        "    - images_dir: str, directory containing the images.\n",
        "    - annotations_dir: str, directory containing the annotation JSON files.\n",
        "    - image_size: tuple, target size for resizing images (default is (300, 300)).\n",
        "    - max_objects: int, maximum number of objects to pad (default is 20).\n",
        "\n",
        "    Returns:\n",
        "    - data: np.array, array of preprocessed images.\n",
        "    - class_labels: np.array, array of one-hot encoded labels with padding.\n",
        "    - bboxes: np.array, array of padded bounding boxes.\n",
        "    - filenames: list, list of filenames for each image.\n",
        "    - object_counts: np.array, array of object counts for each image.\n",
        "    \"\"\"\n",
        "    data = []  # List to store preprocessed images\n",
        "    class_labels = []  # List to store padded labels\n",
        "    bboxes = []  # List to store padded bounding boxes\n",
        "    filenames = []  # List to store filenames\n",
        "    object_counts = []  # List to store object counts\n",
        "\n",
        "    for image_file in os.listdir(images_dir):\n",
        "        image_path = os.path.join(images_dir, image_file)\n",
        "        processed_image = preprocess_image(image_path)\n",
        "\n",
        "        annotation_file = image_file.replace('.png', '.json')  # Find the corresponding annotation file\n",
        "        annotation_path = os.path.join(annotations_dir, annotation_file)  # Construct full path to the annotation file\n",
        "\n",
        "        if os.path.exists(annotation_path):\n",
        "            image_labels, image_bboxes = load_annotations(annotation_path, image_size)  # Load annotations if the file exists\n",
        "            if not image_labels:  # Check if image_labels list is empty after processing\n",
        "                continue  # Skip this image if no valid annotations were found\n",
        "\n",
        "            padded_labels, padded_bboxes = pad_annotations(image_labels, image_bboxes, max_objects, num_classes=2)  # Pad annotations\n",
        "            data.append(processed_image)  # Append the processed image to the data list\n",
        "            class_labels.append(padded_labels)  # Append the padded labels to the class_labels list\n",
        "            bboxes.append(padded_bboxes)  # Append the padded bounding boxes to the bboxes list\n",
        "            filenames.append(image_file)  # Append the filename to the filenames list\n",
        "            object_counts.append(len(image_labels))  # Append the object count to the object_counts list\n",
        "        else:\n",
        "            continue  # Skip images without annotations\n",
        "\n",
        "    return np.array(data), np.array(class_labels), np.array(bboxes), filenames, np.array(object_counts)\n"
      ]
    },
    {
      "cell_type": "markdown",
      "metadata": {
        "id": "YAq5LmulmztO"
      },
      "source": [
        "## **MODEL BUILDING**"
      ]
    },
    {
      "cell_type": "markdown",
      "metadata": {
        "id": "s1b83ix5nJ3z"
      },
      "source": [
        "### Creating the ResNet50 pre-trained model backbone for Transfer Learning"
      ]
    },
    {
      "cell_type": "code",
      "execution_count": 90,
      "metadata": {
        "id": "Ti6cDLhinTaF"
      },
      "outputs": [],
      "source": [
        "import numpy as np\n",
        "import tensorflow as tf\n",
        "from tensorflow.keras.applications import ResNet50\n",
        "from tensorflow.keras.layers import Dense, GlobalAveragePooling2D, Reshape, Dropout, BatchNormalization\n",
        "from tensorflow.keras.models import Model\n",
        "from tensorflow.keras.optimizers import Adam\n",
        "from tensorflow.keras.callbacks import ModelCheckpoint, EarlyStopping, LearningRateScheduler\n",
        "from tensorflow.keras.regularizers import l2\n",
        "from tensorflow.keras.preprocessing.image import ImageDataGenerator\n",
        "from tensorflow.keras.applications.resnet50 import preprocess_input\n",
        "from PIL import Image\n",
        "import os\n",
        "import json\n",
        "\n",
        "def create_resnet50_backbone(input_shape, max_objects=20, num_classes=2, rate=0.01):\n",
        "    \"\"\"\n",
        "    Create a ResNet50-based model for object detection with bounding box and class outputs.\n",
        "\n",
        "    Parameters:\n",
        "    - input_shape: tuple, shape of the input images (height, width, channels).\n",
        "    - max_objects: int, maximum number of objects per image (default is 20).\n",
        "    - num_classes: int, number of classes for classification (default is 2).\n",
        "    - rate: float, regularization rate for the dense layer (default is 0.01).\n",
        "\n",
        "    Returns:\n",
        "    - model: keras.Model, compiled model with ResNet50 backbone and custom outputs.\n",
        "    \"\"\"\n",
        "    # Loading the ResNet50 model with pretrained weights, excluding the top layer\n",
        "    base_model = ResNet50(include_top=False, weights='imagenet', input_shape=input_shape)\n",
        "\n",
        "    # Freezing all layers except the last 30 layers for fine-tuning\n",
        "    for layer in base_model.layers[:-50]:\n",
        "        layer.trainable = False\n",
        "    for layer in base_model.layers[-50:]:\n",
        "        layer.trainable = True\n",
        "\n",
        "    # Adding custom layers on top of the base model\n",
        "    x = base_model.output\n",
        "    x = GlobalAveragePooling2D()(x)  # Global average pooling layer\n",
        "    x = BatchNormalization()(x)  # Batch normalization layer\n",
        "    x = Dense(1024, activation='relu', kernel_regularizer=l2(rate))(x)  # Dense layer with L2 regularization\n",
        "    x = Dropout(0.8)(x)  # Dropout layer to prevent overfitting\n",
        "\n",
        "    # Defining the output layer for bounding box predictions\n",
        "    num_bbox_outputs = max_objects * 4\n",
        "    bbox_output = Dense(num_bbox_outputs, activation='sigmoid')(x)  # Dense layer with sigmoid activation\n",
        "    bbox_output = Reshape((max_objects, 4), name='bbox_output')(bbox_output)  # Reshape output to (max_objects, 4)\n",
        "\n",
        "    # Defining the output layer for class predictions\n",
        "    num_class_outputs = max_objects * num_classes\n",
        "    class_output = Dense(num_class_outputs, activation='softmax')(x)  # Dense layer with softmax activation\n",
        "    class_output = Reshape((max_objects, num_classes), name='class_output')(class_output)  # Reshape output to (max_objects, num_classes)\n",
        "\n",
        "    # Creating the final model\n",
        "    model = Model(inputs=base_model.input, outputs=[bbox_output, class_output])\n",
        "\n",
        "    return model\n"
      ]
    },
    {
      "cell_type": "markdown",
      "metadata": {
        "id": "fm6BcYSlpUfe"
      },
      "source": [
        "### This `combined_generator` function to generate batches of images with corresponding class labels and bounding boxes"
      ]
    },
    {
      "cell_type": "code",
      "execution_count": 91,
      "metadata": {
        "id": "ObWDWmNQpR9J"
      },
      "outputs": [],
      "source": [
        "def combined_generator(image_gen, class_labels, bboxes, max_objects, num_classes):\n",
        "    \"\"\"\n",
        "    Generate batches of images and their corresponding labels and bounding boxes.\n",
        "\n",
        "    Parameters:\n",
        "    - image_gen: ImageDataGenerator, generator for image batches.\n",
        "    - class_labels: np.array, array of class labels.\n",
        "    - bboxes: np.array, array of bounding boxes.\n",
        "    - max_objects: int, maximum number of objects per image.\n",
        "    - num_classes: int, number of classes for classification.\n",
        "\n",
        "    Returns:\n",
        "    - image_batch: np.array, batch of images.\n",
        "    - dict: dictionary containing class labels and bounding boxes.\n",
        "    \"\"\"\n",
        "    while True:\n",
        "        image_batch = next(image_gen)  # Getting the next batch of images\n",
        "        batch_size = image_batch.shape[0]  # Getingt the batch size\n",
        "        class_labels_batch = np.zeros((batch_size, max_objects, num_classes), dtype=np.float32)  # Initializes batch for class labels\n",
        "        bboxes_batch = np.zeros((batch_size, max_objects, 4), dtype=np.float32)  # Initializes batch for bounding boxes\n",
        "        for i in range(batch_size):\n",
        "            idx = (image_gen.batch_index - 1) * image_gen.batch_size + i\n",
        "            if idx < len(class_labels):\n",
        "                class_labels_batch[i] = class_labels[idx]  # Assign class labels to batch\n",
        "                bboxes_batch[i] = bboxes[idx]  # Assign bounding boxes to batch\n",
        "        yield image_batch, {'class_output': class_labels_batch, 'bbox_output': bboxes_batch}"
      ]
    },
    {
      "cell_type": "markdown",
      "metadata": {
        "id": "Y3uvQbeJpmF8"
      },
      "source": [
        "### Functions to create custom focal loss function, compile and train the model using images and annotations from specified directories."
      ]
    },
    {
      "cell_type": "code",
      "execution_count": 92,
      "metadata": {
        "id": "EJwnXQul-iSu"
      },
      "outputs": [],
      "source": [
        "# Defining a custom focal loss function\n",
        "def focal_loss(gamma=2., alpha=0.25):\n",
        "    def focal_loss_fixed(y_true, y_pred):\n",
        "        epsilon = tf.keras.backend.epsilon()\n",
        "        y_pred = tf.clip_by_value(y_pred, epsilon, 1. - epsilon)\n",
        "        alpha_t = y_true * alpha + (tf.keras.backend.ones_like(y_true) - y_true) * (1 - alpha)\n",
        "        p_t = y_true * y_pred + (tf.keras.backend.ones_like(y_true) - y_true) * (1 - y_pred)\n",
        "        fl = - alpha_t * tf.keras.backend.pow((tf.keras.backend.ones_like(y_true) - p_t), gamma) * tf.keras.backend.log(p_t)\n",
        "        return tf.keras.backend.mean(fl)\n",
        "    return focal_loss_fixed"
      ]
    },
    {
      "cell_type": "code",
      "execution_count": 93,
      "metadata": {
        "id": "DQ93PqlDootM"
      },
      "outputs": [],
      "source": [
        "\n",
        "\n",
        "# Compile and train the model\n",
        "def compile_and_train_model(model, images_dir, annotations_dir, max_objects=20, num_classes=2, epochs=30):\n",
        "    \"\"\"\n",
        "    Compile and train the model using the specified directories for images and annotations.\n",
        "\n",
        "    Parameters:\n",
        "    - model: keras.Model, the model to be trained.\n",
        "    - images_dir: str, directory containing the images.\n",
        "    - annotations_dir: str, directory containing the annotation JSON files.\n",
        "    - max_objects: int, maximum number of objects per image (default is 20).\n",
        "    - num_classes: int, number of classes for classification (default is 2).\n",
        "    - epochs: int, number of epochs for training (default is 100).\n",
        "\n",
        "    Returns:\n",
        "    - history: keras.callbacks.History, history of the training process.\n",
        "    \"\"\"\n",
        "    # Create padded dataset from images and annotations\n",
        "    data, class_labels, bboxes, filenames, object_counts = create_padded_dataset(images_dir, annotations_dir, max_objects=max_objects)\n",
        "\n",
        "    # Compile the model with specified optimizer, loss functions, and metrics\n",
        "    model.compile(\n",
        "        optimizer=Adam(learning_rate=1e-4),\n",
        "        loss={'bbox_output': 'mse', 'class_output': focal_loss(gamma=2.0, alpha=0.25)},\n",
        "        metrics={'bbox_output': 'mse', 'class_output': 'accuracy'}\n",
        "    )\n",
        "\n",
        "    # Define callbacks for saving the best model and early stopping\n",
        "    checkpoint = ModelCheckpoint('/content/drive/MyDrive/Multiclass dataset/Trained_Models/Best Model.keras', save_best_only=True, monitor='class_output_loss', mode='min')\n",
        "    early_stopping = EarlyStopping(patience=10, monitor='class_output_loss', mode='min', restore_best_weights=True)\n",
        "\n",
        "    # Create an image data generator with augmentation parameters\n",
        "    datagen = ImageDataGenerator(\n",
        "        rotation_range=30,\n",
        "        width_shift_range=0.3,\n",
        "        height_shift_range=0.3,\n",
        "        shear_range=0.3,\n",
        "        zoom_range=0.3,\n",
        "        horizontal_flip=True,\n",
        "        vertical_flip=True,\n",
        "        fill_mode='nearest'\n",
        "    )\n",
        "\n",
        "    # Create a combined generator that includes images, class labels, and bounding boxes\n",
        "    data_generator = datagen.flow(data, batch_size=64, shuffle=True)\n",
        "    combined_gen = combined_generator(data_generator, class_labels, bboxes, max_objects, num_classes)\n",
        "\n",
        "    # Train the model using the combined generator\n",
        "    history = model.fit(\n",
        "        combined_gen,\n",
        "        steps_per_epoch=len(data) // 64,\n",
        "        epochs=epochs,\n",
        "        validation_data=(data, {'class_output': class_labels, 'bbox_output': bboxes}),\n",
        "        callbacks=[checkpoint, early_stopping]\n",
        "    )\n",
        "\n",
        "    return history  # Return the history of the training process\n"
      ]
    },
    {
      "cell_type": "markdown",
      "metadata": {
        "id": "-jwfVhslrQ6C"
      },
      "source": [
        "### Training The Model"
      ]
    },
    {
      "cell_type": "code",
      "execution_count": 96,
      "metadata": {
        "colab": {
          "base_uri": "https://localhost:8080/"
        },
        "id": "phKy0_gXrJ2o",
        "outputId": "fb7f41f0-9a70-4e43-e51d-ac9edc1e3749"
      },
      "outputs": [
        {
          "name": "stdout",
          "output_type": "stream",
          "text": [
            "Epoch 1/30\n",
            "7/7 [==============================] - 52s 4s/step - loss: 13.9928 - bbox_output_loss: 0.3027 - class_output_loss: 0.2645 - bbox_output_mse: 0.3027 - class_output_accuracy: 0.5203 - val_loss: 13.4857 - val_bbox_output_loss: 0.2090 - val_class_output_loss: 0.1595 - val_bbox_output_mse: 0.2090 - val_class_output_accuracy: 0.5414\n",
            "Epoch 2/30\n",
            "7/7 [==============================] - 24s 2s/step - loss: 13.4131 - bbox_output_loss: 0.2687 - class_output_loss: 0.2550 - bbox_output_mse: 0.2687 - class_output_accuracy: 0.5144 - val_loss: 12.9227 - val_bbox_output_loss: 0.1718 - val_class_output_loss: 0.1555 - val_bbox_output_mse: 0.1718 - val_class_output_accuracy: 0.5304\n",
            "Epoch 3/30\n",
            "7/7 [==============================] - 18s 3s/step - loss: 12.8496 - bbox_output_loss: 0.2399 - class_output_loss: 0.2335 - bbox_output_mse: 0.2399 - class_output_accuracy: 0.5163 - val_loss: 12.3848 - val_bbox_output_loss: 0.1406 - val_class_output_loss: 0.1532 - val_bbox_output_mse: 0.1406 - val_class_output_accuracy: 0.5302\n",
            "Epoch 4/30\n",
            "7/7 [==============================] - 12s 2s/step - loss: 12.3241 - bbox_output_loss: 0.2082 - class_output_loss: 0.2364 - bbox_output_mse: 0.2082 - class_output_accuracy: 0.5027 - val_loss: 11.8704 - val_bbox_output_loss: 0.1166 - val_class_output_loss: 0.1511 - val_bbox_output_mse: 0.1166 - val_class_output_accuracy: 0.5251\n",
            "Epoch 5/30\n",
            "7/7 [==============================] - 20s 3s/step - loss: 11.8062 - bbox_output_loss: 0.1838 - class_output_loss: 0.2232 - bbox_output_mse: 0.1838 - class_output_accuracy: 0.5000 - val_loss: 11.3787 - val_bbox_output_loss: 0.0982 - val_class_output_loss: 0.1496 - val_bbox_output_mse: 0.0982 - val_class_output_accuracy: 0.5077\n",
            "Epoch 6/30\n",
            "7/7 [==============================] - 15s 2s/step - loss: 11.3145 - bbox_output_loss: 0.1635 - class_output_loss: 0.2159 - bbox_output_mse: 0.1635 - class_output_accuracy: 0.4977 - val_loss: 10.9125 - val_bbox_output_loss: 0.0848 - val_class_output_loss: 0.1520 - val_bbox_output_mse: 0.0848 - val_class_output_accuracy: 0.4901\n",
            "Epoch 7/30\n",
            "7/7 [==============================] - 20s 3s/step - loss: 10.8302 - bbox_output_loss: 0.1451 - class_output_loss: 0.1978 - bbox_output_mse: 0.1451 - class_output_accuracy: 0.5021 - val_loss: 10.4689 - val_bbox_output_loss: 0.0759 - val_class_output_loss: 0.1573 - val_bbox_output_mse: 0.0759 - val_class_output_accuracy: 0.4606\n",
            "Epoch 8/30\n",
            "7/7 [==============================] - 16s 3s/step - loss: 10.3786 - bbox_output_loss: 0.1274 - class_output_loss: 0.1965 - bbox_output_mse: 0.1274 - class_output_accuracy: 0.4983 - val_loss: 10.0551 - val_bbox_output_loss: 0.0713 - val_class_output_loss: 0.1722 - val_bbox_output_mse: 0.0713 - val_class_output_accuracy: 0.4585\n",
            "Epoch 9/30\n",
            "7/7 [==============================] - 15s 2s/step - loss: 9.9353 - bbox_output_loss: 0.1148 - class_output_loss: 0.1855 - bbox_output_mse: 0.1148 - class_output_accuracy: 0.4982 - val_loss: 9.6680 - val_bbox_output_loss: 0.0706 - val_class_output_loss: 0.1951 - val_bbox_output_mse: 0.0706 - val_class_output_accuracy: 0.4631\n",
            "Epoch 10/30\n",
            "7/7 [==============================] - 16s 3s/step - loss: 9.5160 - bbox_output_loss: 0.1047 - class_output_loss: 0.1814 - bbox_output_mse: 0.1047 - class_output_accuracy: 0.4954 - val_loss: 9.2803 - val_bbox_output_loss: 0.0694 - val_class_output_loss: 0.2033 - val_bbox_output_mse: 0.0694 - val_class_output_accuracy: 0.4598\n",
            "Epoch 11/30\n",
            "7/7 [==============================] - 18s 3s/step - loss: 9.1123 - bbox_output_loss: 0.0980 - class_output_loss: 0.1718 - bbox_output_mse: 0.0980 - class_output_accuracy: 0.4879 - val_loss: 8.9202 - val_bbox_output_loss: 0.0653 - val_class_output_loss: 0.2268 - val_bbox_output_mse: 0.0653 - val_class_output_accuracy: 0.4582\n",
            "Epoch 12/30\n",
            "7/7 [==============================] - 18s 3s/step - loss: 8.7320 - bbox_output_loss: 0.0913 - class_output_loss: 0.1713 - bbox_output_mse: 0.0913 - class_output_accuracy: 0.4892 - val_loss: 8.5492 - val_bbox_output_loss: 0.0618 - val_class_output_loss: 0.2260 - val_bbox_output_mse: 0.0618 - val_class_output_accuracy: 0.4619\n",
            "Epoch 13/30\n",
            "7/7 [==============================] - 19s 3s/step - loss: 8.3622 - bbox_output_loss: 0.0829 - class_output_loss: 0.1705 - bbox_output_mse: 0.0829 - class_output_accuracy: 0.4822 - val_loss: 8.1903 - val_bbox_output_loss: 0.0594 - val_class_output_loss: 0.2230 - val_bbox_output_mse: 0.0594 - val_class_output_accuracy: 0.4551\n",
            "Epoch 14/30\n",
            "7/7 [==============================] - 16s 3s/step - loss: 8.0042 - bbox_output_loss: 0.0792 - class_output_loss: 0.1636 - bbox_output_mse: 0.0792 - class_output_accuracy: 0.4804 - val_loss: 7.8382 - val_bbox_output_loss: 0.0585 - val_class_output_loss: 0.2125 - val_bbox_output_mse: 0.0585 - val_class_output_accuracy: 0.4565\n",
            "Epoch 15/30\n",
            "7/7 [==============================] - 16s 3s/step - loss: 7.6657 - bbox_output_loss: 0.0751 - class_output_loss: 0.1638 - bbox_output_mse: 0.0751 - class_output_accuracy: 0.4784 - val_loss: 7.4917 - val_bbox_output_loss: 0.0584 - val_class_output_loss: 0.1938 - val_bbox_output_mse: 0.0584 - val_class_output_accuracy: 0.4549\n",
            "Epoch 16/30\n",
            "7/7 [==============================] - 12s 2s/step - loss: 7.3405 - bbox_output_loss: 0.0720 - class_output_loss: 0.1638 - bbox_output_mse: 0.0720 - class_output_accuracy: 0.4933 - val_loss: 7.1839 - val_bbox_output_loss: 0.0573 - val_class_output_loss: 0.2029 - val_bbox_output_mse: 0.0573 - val_class_output_accuracy: 0.4452\n",
            "Epoch 17/30\n",
            "7/7 [==============================] - 18s 3s/step - loss: 7.0195 - bbox_output_loss: 0.0672 - class_output_loss: 0.1601 - bbox_output_mse: 0.0672 - class_output_accuracy: 0.4867 - val_loss: 6.8755 - val_bbox_output_loss: 0.0555 - val_class_output_loss: 0.2008 - val_bbox_output_mse: 0.0555 - val_class_output_accuracy: 0.4353\n",
            "Epoch 18/30\n",
            "7/7 [==============================] - 19s 3s/step - loss: 6.7150 - bbox_output_loss: 0.0665 - class_output_loss: 0.1572 - bbox_output_mse: 0.0665 - class_output_accuracy: 0.4700 - val_loss: 6.5523 - val_bbox_output_loss: 0.0542 - val_class_output_loss: 0.1717 - val_bbox_output_mse: 0.0542 - val_class_output_accuracy: 0.4235\n",
            "Epoch 19/30\n",
            "7/7 [==============================] - 17s 3s/step - loss: 6.4204 - bbox_output_loss: 0.0622 - class_output_loss: 0.1545 - bbox_output_mse: 0.0622 - class_output_accuracy: 0.4699 - val_loss: 6.2532 - val_bbox_output_loss: 0.0516 - val_class_output_loss: 0.1573 - val_bbox_output_mse: 0.0516 - val_class_output_accuracy: 0.4167\n",
            "Epoch 20/30\n",
            "7/7 [==============================] - 15s 2s/step - loss: 6.1429 - bbox_output_loss: 0.0620 - class_output_loss: 0.1544 - bbox_output_mse: 0.0620 - class_output_accuracy: 0.4673 - val_loss: 5.9866 - val_bbox_output_loss: 0.0503 - val_class_output_loss: 0.1639 - val_bbox_output_mse: 0.0503 - val_class_output_accuracy: 0.4220\n",
            "Epoch 21/30\n",
            "7/7 [==============================] - 17s 3s/step - loss: 5.8732 - bbox_output_loss: 0.0602 - class_output_loss: 0.1535 - bbox_output_mse: 0.0602 - class_output_accuracy: 0.4657 - val_loss: 5.7339 - val_bbox_output_loss: 0.0495 - val_class_output_loss: 0.1736 - val_bbox_output_mse: 0.0495 - val_class_output_accuracy: 0.4358\n",
            "Epoch 22/30\n",
            "7/7 [==============================] - 15s 2s/step - loss: 5.6126 - bbox_output_loss: 0.0593 - class_output_loss: 0.1506 - bbox_output_mse: 0.0593 - class_output_accuracy: 0.4655 - val_loss: 5.4766 - val_bbox_output_loss: 0.0501 - val_class_output_loss: 0.1670 - val_bbox_output_mse: 0.0501 - val_class_output_accuracy: 0.4371\n",
            "Epoch 23/30\n",
            "7/7 [==============================] - 17s 3s/step - loss: 5.3583 - bbox_output_loss: 0.0573 - class_output_loss: 0.1450 - bbox_output_mse: 0.0573 - class_output_accuracy: 0.4676 - val_loss: 5.2313 - val_bbox_output_loss: 0.0515 - val_class_output_loss: 0.1620 - val_bbox_output_mse: 0.0515 - val_class_output_accuracy: 0.4369\n",
            "Epoch 24/30\n",
            "7/7 [==============================] - 16s 3s/step - loss: 5.1276 - bbox_output_loss: 0.0571 - class_output_loss: 0.1519 - bbox_output_mse: 0.0571 - class_output_accuracy: 0.4629 - val_loss: 4.9973 - val_bbox_output_loss: 0.0500 - val_class_output_loss: 0.1618 - val_bbox_output_mse: 0.0500 - val_class_output_accuracy: 0.4338\n",
            "Epoch 25/30\n",
            "7/7 [==============================] - 13s 2s/step - loss: 4.8913 - bbox_output_loss: 0.0548 - class_output_loss: 0.1473 - bbox_output_mse: 0.0548 - class_output_accuracy: 0.4660 - val_loss: 4.7778 - val_bbox_output_loss: 0.0511 - val_class_output_loss: 0.1643 - val_bbox_output_mse: 0.0511 - val_class_output_accuracy: 0.4340\n",
            "Epoch 26/30\n",
            "7/7 [==============================] - 17s 3s/step - loss: 4.6715 - bbox_output_loss: 0.0550 - class_output_loss: 0.1478 - bbox_output_mse: 0.0550 - class_output_accuracy: 0.4586 - val_loss: 4.5606 - val_bbox_output_loss: 0.0505 - val_class_output_loss: 0.1621 - val_bbox_output_mse: 0.0505 - val_class_output_accuracy: 0.4289\n",
            "Epoch 27/30\n",
            "7/7 [==============================] - 16s 2s/step - loss: 4.4537 - bbox_output_loss: 0.0522 - class_output_loss: 0.1432 - bbox_output_mse: 0.0522 - class_output_accuracy: 0.4529 - val_loss: 4.3498 - val_bbox_output_loss: 0.0484 - val_class_output_loss: 0.1596 - val_bbox_output_mse: 0.0484 - val_class_output_accuracy: 0.4120\n",
            "Epoch 28/30\n",
            "7/7 [==============================] - 14s 2s/step - loss: 4.2559 - bbox_output_loss: 0.0535 - class_output_loss: 0.1460 - bbox_output_mse: 0.0535 - class_output_accuracy: 0.4642 - val_loss: 4.1492 - val_bbox_output_loss: 0.0479 - val_class_output_loss: 0.1568 - val_bbox_output_mse: 0.0479 - val_class_output_accuracy: 0.3993\n",
            "Epoch 29/30\n",
            "7/7 [==============================] - 17s 3s/step - loss: 4.0596 - bbox_output_loss: 0.0493 - class_output_loss: 0.1476 - bbox_output_mse: 0.0493 - class_output_accuracy: 0.4400 - val_loss: 3.9560 - val_bbox_output_loss: 0.0462 - val_class_output_loss: 0.1547 - val_bbox_output_mse: 0.0462 - val_class_output_accuracy: 0.3807\n",
            "Epoch 30/30\n",
            "7/7 [==============================] - 17s 3s/step - loss: 3.8718 - bbox_output_loss: 0.0512 - class_output_loss: 0.1436 - bbox_output_mse: 0.0512 - class_output_accuracy: 0.4571 - val_loss: 3.7669 - val_bbox_output_loss: 0.0458 - val_class_output_loss: 0.1474 - val_bbox_output_mse: 0.0458 - val_class_output_accuracy: 0.3805\n"
          ]
        }
      ],
      "source": [
        "# Setup paths and shapes\n",
        "input_shape = (300, 300, 3)\n",
        "train_data = '/content/drive/MyDrive/Multiclass dataset/Train/Images'\n",
        "train_labels = '/content/drive/MyDrive/Multiclass dataset/Train/Annotations'\n",
        "\n",
        "# Createing the model\n",
        "model = create_resnet50_backbone(input_shape)\n",
        "\n",
        "# Training the model\n",
        "train_history = compile_and_train_model(model, train_data, train_labels, max_objects=20, num_classes=2, epochs=30)"
      ]
    },
    {
      "cell_type": "markdown",
      "metadata": {
        "id": "yllYysQ5xnva"
      },
      "source": [
        "## **Model Prediction**"
      ]
    },
    {
      "cell_type": "markdown",
      "metadata": {
        "id": "y6bJEv0RttpK"
      },
      "source": [
        "### Loading and Preparing the test data"
      ]
    },
    {
      "cell_type": "code",
      "execution_count": 33,
      "metadata": {
        "colab": {
          "base_uri": "https://localhost:8080/"
        },
        "id": "2Xan135DwUD1",
        "outputId": "70d25094-0947-4677-b839-da9da81ae24a"
      },
      "outputs": [
        {
          "name": "stdout",
          "output_type": "stream",
          "text": [
            "Label counts: {'Empty': 372, 'Disorganized': 414}\n"
          ]
        }
      ],
      "source": [
        "# Load the test dataset\n",
        "test_images_dir = '/content/drive/MyDrive/Multiclass dataset/Test/Images'\n",
        "test_annotations_dir = '/content/drive/MyDrive/Multiclass dataset/Test/Annotations'\n",
        "\n",
        "# Using the already defined create_padded_dataset to prepare the data\n",
        "test_images, test_labels, test_bboxes, test_filenames, object_counts = create_padded_dataset(test_images_dir, test_annotations_dir)\n",
        "\n",
        "# Counting the frequency of labels\n",
        "def count_labels(test_labels, object_counts):\n",
        "    label_counts = {category: 0 for category in categories.keys()}\n",
        "\n",
        "    for labels, count in zip(test_labels, object_counts):\n",
        "        for i in range(count):  # Iterate through each object's labels up to the actual object count\n",
        "            for key, value in categories.items():\n",
        "                if labels[i][value] == 1:  # Check if the one-hot encoded label is present\n",
        "                    label_counts[key] += 1\n",
        "\n",
        "    return label_counts\n",
        "\n",
        "label_counts = count_labels(test_labels, object_counts)\n",
        "print(\"Label counts:\", label_counts)\n"
      ]
    },
    {
      "cell_type": "markdown",
      "metadata": {
        "id": "5q6ECP9lx3Mm"
      },
      "source": [
        "### Loading the model, extraxting the model predictions and getting the frequency of model label predictions"
      ]
    },
    {
      "cell_type": "code",
      "execution_count": 104,
      "metadata": {
        "colab": {
          "base_uri": "https://localhost:8080/"
        },
        "id": "5Jzn32BJxxOL",
        "outputId": "ce42dab6-4a8f-44ee-92e9-eeeff707fece"
      },
      "outputs": [
        {
          "name": "stdout",
          "output_type": "stream",
          "text": [
            "5/5 [==============================] - 2s 167ms/step\n",
            "Predicted Label Counts: {'Disorganized': 405, 'Empty': 381}\n"
          ]
        }
      ],
      "source": [
        "import numpy as np\n",
        "from keras.models import load_model\n",
        "\n",
        "# Loading the trained model with custom_objects\n",
        "model = load_model('/content/drive/MyDrive/Multiclass dataset/Trained_Models/Best_Model.keras', custom_objects={'focal_loss_fixed': focal_loss()})\n",
        "\n",
        "# Predict using the model\n",
        "predictions = model.predict(test_images)\n",
        "bbox_predictions, class_predictions = predictions[0], predictions[1]\n",
        "\n",
        "# Function to count predicted labels\n",
        "def count_predicted_labels(predicted_labels, object_counts):\n",
        "    label_counts = {category: 0 for category in categories.keys()}\n",
        "\n",
        "    for labels, count in zip(predicted_labels, object_counts):\n",
        "        for i in range(count):  # Iterate through each object's labels up to the actual object count\n",
        "            for key, value in categories.items():\n",
        "                if labels[i][value] == 1:  # Check if the one-hot encoded label is present\n",
        "                    label_counts[key] += 1\n",
        "\n",
        "    return label_counts\n",
        "\n",
        "# Function to denormalize bounding boxes\n",
        "def denormalize_bounding_boxes(bboxes, original_width, original_height):\n",
        "    denormalized_bboxes = []\n",
        "    for bbox in bboxes:\n",
        "        x, y, width, height = bbox\n",
        "        denormalized_bboxes.append([\n",
        "            x * original_width,\n",
        "            y * original_height,\n",
        "            width * original_width,\n",
        "            height * original_height\n",
        "        ])\n",
        "    return denormalized_bboxes\n",
        "\n",
        "# Defineinthe categories\n",
        "categories = {0: 'Disorganized', 1: 'Empty'}\n",
        "\n",
        "# Initializing the count for predicted labels\n",
        "predicted_label_counts = {category: 0 for category in categories.values()}\n",
        "\n",
        "# Iterate over each test sample and print the results\n",
        "for i in range(len(test_filenames)):\n",
        "    # print(f\"Filename: {test_filenames[i]}\")\n",
        "\n",
        "    # Get the predicted bounding boxes and class scores for this image\n",
        "    predicted_bboxes = bbox_predictions[i]\n",
        "    predicted_scores = class_predictions[i]\n",
        "\n",
        "    # Denormalize bounding boxes (assuming the original image size is 300x300)\n",
        "    denormalized_bboxes = denormalize_bounding_boxes(predicted_bboxes, 300, 300)\n",
        "\n",
        "    for j in range(object_counts[i]):  # Only consider the actual objects, ignore padding\n",
        "        bbox = denormalized_bboxes[j]\n",
        "        class_score = predicted_scores[j]\n",
        "\n",
        "        # Get the predicted class label and its score\n",
        "        predicted_class_index = np.argmax(class_score)\n",
        "        predicted_class_label = categories[predicted_class_index]\n",
        "        predicted_class_score = class_score[predicted_class_index]\n",
        "\n",
        "        # Update the count for the predicted label\n",
        "        predicted_label_counts[predicted_class_label] += 1\n",
        "\n",
        "# print(\"Evaluation complete.\")\n",
        "print(f\"Predicted Label Counts: {predicted_label_counts}\")"
      ]
    },
    {
      "cell_type": "markdown",
      "metadata": {
        "id": "6SYeMjtm0Aaa"
      },
      "source": [
        "##**Evaluation**"
      ]
    },
    {
      "cell_type": "markdown",
      "metadata": {
        "id": "J0xb_N7TB5UL"
      },
      "source": [
        "### Precision-Recall Curve\n",
        "A precision-recall curve evaluates the model by visualizing the trade-off between precision and recall at a 0.5 threshold in the classification model. Precision, the ratio of true positive predictions to the total predicted positives, and recall, the ratio of true positives to all actual positives, are used to evaluate the model. The Intersection over Union (IoU) for bounding boxes, along with true positives, false positives, and false negatives, is calculated. The precision-recall curves for each category, providing Average Precision (AP) values, visualize the model's performance on 'Disorganized' and 'Empty' classes."
      ]
    },
    {
      "cell_type": "code",
      "execution_count": 105,
      "metadata": {
        "colab": {
          "base_uri": "https://localhost:8080/",
          "height": 479
        },
        "id": "i6NFE7v6z9Tk",
        "outputId": "402e1f60-ceb6-4855-a2bc-cb227191a559"
      },
      "outputs": [
        {
          "name": "stdout",
          "output_type": "stream",
          "text": [
            "Disorganized: Precision=0.65, Recall=0.19\n",
            "Empty: Precision=0.65, Recall=0.19\n",
            "Mean Precision (mP): 0.65\n",
            "Mean Recall (mR): 0.19\n"
          ]
        },
        {
          "data": {
            "image/png": "[encoded data removed]",
            "text/plain": [
              "<Figure size 600x400 with 1 Axes>"
            ]
          },
          "metadata": {},
          "output_type": "display_data"
        }
      ],
      "source": [
        "import numpy as np\n",
        "import matplotlib.pyplot as plt\n",
        "from sklearn.metrics import precision_recall_curve, average_precision_score\n",
        "\n",
        "# Function to calculate Intersection over Union (IoU)\n",
        "def calculate_iou(boxA, boxB):\n",
        "    # Determining the coordinates of the intersection rectangle\n",
        "    xA = max(boxA[0], boxB[0])\n",
        "    yA = max(boxA[1], boxB[1])\n",
        "    xB = min(boxA[2], boxB[2])\n",
        "    yB = min(boxA[3], boxB[3])\n",
        "\n",
        "    # Computing the area of intersection rectangle\n",
        "    interArea = max(0, xB - xA + 1) * max(0, yB - yA + 1)\n",
        "\n",
        "    # Computing the area of both the prediction and ground-truth rectangles\n",
        "    boxAArea = (boxA[2] - boxA[0] + 1) * (boxA[3] - boxA[1] + 1)\n",
        "    boxBArea = (boxB[2] - boxB[0] + 1) * (boxB[3] - boxB[1] + 1)\n",
        "\n",
        "    # Computing the intersection over union by taking the intersection area and dividing it by the sum of prediction + ground-truth areas - intersection area\n",
        "    iou = interArea / float(boxAArea + boxBArea - interArea)\n",
        "\n",
        "    return iou\n",
        "\n",
        "# Function to count true positives, false positives, and false negatives based on IoU threshold\n",
        "def count_detections(true_bboxes, predicted_bboxes, predicted_labels, object_counts, iou_threshold=0.5):\n",
        "    tp, fp, fn = 0, 0, 0\n",
        "\n",
        "    for i in range(len(true_bboxes)):\n",
        "        true_boxes = true_bboxes[i]\n",
        "        pred_boxes = predicted_bboxes[i]\n",
        "        pred_labels = predicted_labels[i]\n",
        "        true_count = len(true_boxes)\n",
        "        pred_count = object_counts[i]\n",
        "\n",
        "        matched = np.zeros(true_count, dtype=bool)\n",
        "\n",
        "        for j in range(pred_count):\n",
        "            pred_box = pred_boxes[j]\n",
        "            pred_label = np.argmax(pred_labels[j])\n",
        "\n",
        "            for k in range(true_count):\n",
        "                if matched[k]:\n",
        "                    continue\n",
        "                iou = calculate_iou(pred_box, true_boxes[k])\n",
        "                if iou >= iou_threshold:\n",
        "                    matched[k] = True\n",
        "                    tp += 1\n",
        "                    break\n",
        "            else:\n",
        "                fp += 1\n",
        "\n",
        "        fn += np.sum(~matched)\n",
        "\n",
        "    return tp, fp, fn\n",
        "\n",
        "# Calculating metrics including bounding box predictions\n",
        "def calculate_bbox_metrics(true_bboxes, predicted_bboxes, predicted_labels, object_counts, iou_threshold=0.5):\n",
        "    precision_scores = {}\n",
        "    recall_scores = {}\n",
        "\n",
        "    tp, fp, fn = count_detections(true_bboxes, predicted_bboxes, predicted_labels, object_counts, iou_threshold)\n",
        "\n",
        "    for category in categories.values():\n",
        "        precision = tp / (tp + fp) if (tp + fp) > 0 else 0\n",
        "        recall = tp / (tp + fn) if (tp + fn) > 0 else 0\n",
        "\n",
        "        precision_scores[category] = precision\n",
        "        recall_scores[category] = recall\n",
        "\n",
        "    mean_precision = np.mean(list(precision_scores.values()))\n",
        "    mean_recall = np.mean(list(recall_scores.values()))\n",
        "\n",
        "    return precision_scores, recall_scores, mean_precision, mean_recall\n",
        "\n",
        "precision_scores, recall_scores, mean_precision, mean_recall = calculate_bbox_metrics(test_bboxes, bbox_predictions, class_predictions, object_counts)\n",
        "\n",
        "# Printing the results\n",
        "for category in precision_scores.keys():\n",
        "    print(f\"{category}: Precision={precision_scores[category]:.2f}, Recall={recall_scores[category]:.2f}\")\n",
        "\n",
        "print(f\"Mean Precision (mP): {mean_precision:.2f}\")\n",
        "print(f\"Mean Recall (mR): {mean_recall:.2f}\")\n",
        "\n",
        "# Plotting Precision-Recall curve\n",
        "def plot_bbox_precision_recall_curve(true_bboxes, predicted_bboxes, predicted_labels, object_counts, iou_threshold=0.5):\n",
        "    plt.figure(figsize=(6, 4))\n",
        "    ap_values = {}\n",
        "\n",
        "    for category in categories.values():\n",
        "\n",
        "        # Creating binary labels for the category based on IoU threshold\n",
        "        true_binary_labels = []\n",
        "        predicted_scores = []\n",
        "\n",
        "        for i in range(len(true_bboxes)):\n",
        "            true_boxes = true_bboxes[i]\n",
        "            pred_boxes = predicted_bboxes[i]\n",
        "            pred_labels = predicted_labels[i]\n",
        "            true_count = len(true_boxes)\n",
        "            pred_count = object_counts[i]\n",
        "\n",
        "            matched = np.zeros(true_count, dtype=bool)\n",
        "\n",
        "            for j in range(pred_count):\n",
        "                pred_box = pred_boxes[j]\n",
        "                pred_label = np.argmax(pred_labels[j])\n",
        "                score = pred_labels[j][pred_label]\n",
        "\n",
        "                best_iou = 0\n",
        "                for k in range(true_count):\n",
        "                    iou = calculate_iou(pred_box, true_boxes[k])\n",
        "                    best_iou = max(best_iou, iou)\n",
        "\n",
        "                predicted_scores.append(score)\n",
        "                true_binary_labels.append(best_iou >= iou_threshold)\n",
        "\n",
        "        precision, recall, _ = precision_recall_curve(true_binary_labels, predicted_scores)\n",
        "        ap = average_precision_score(true_binary_labels, predicted_scores)\n",
        "        ap_values[category] = ap\n",
        "\n",
        "        plt.plot(recall, precision, label='{} AP={:.2f}'.format(category, ap))\n",
        "\n",
        "    plt.xlabel('Recall')\n",
        "    plt.ylabel('Precision')\n",
        "    plt.title('Precision-Recall curve for Best Model')\n",
        "    plt.grid(True)\n",
        "    plt.xlim([0.0, 1.0])\n",
        "    plt.ylim([0.0, 1.05])\n",
        "    plt.legend(loc='lower right')\n",
        "    plt.show()\n",
        "\n",
        "# Plotting the Precision-Recall curve\n",
        "plot_bbox_precision_recall_curve(test_bboxes, bbox_predictions, class_predictions, object_counts)\n",
        "\n"
      ]
    },
    {
      "cell_type": "markdown",
      "metadata": {
        "id": "mI6Vy60HCEqi"
      },
      "source": [
        "### Confusion Matrix Plot\n",
        "This code plots a confusion matrix to evaluate the performance of an object detection model. It compares the true and predicted bounding boxes, using an Intersection over Union (IoU) threshold of 0.5 to determine matches. The function calculates true and predicted labels, constructs a confusion matrix which then visualizes the model's accuracy in classifying 'Disorganized' and 'Empty' categories, highlighting true positives, false positives, and false negatives."
      ]
    },
    {
      "cell_type": "code",
      "execution_count": 106,
      "metadata": {
        "colab": {
          "base_uri": "https://localhost:8080/",
          "height": 472
        },
        "id": "sYA6XyJ21O9t",
        "outputId": "2319c1bd-e5a4-4684-acdc-15734d6b5d97"
      },
      "outputs": [
        {
          "data": {
            "image/png": "[encoded data removed]",
            "text/plain": [
              "<Figure size 640x480 with 2 Axes>"
            ]
          },
          "metadata": {},
          "output_type": "display_data"
        }
      ],
      "source": [
        "import numpy as np\n",
        "import matplotlib.pyplot as plt\n",
        "from sklearn.metrics import confusion_matrix, ConfusionMatrixDisplay\n",
        "\n",
        "# Function to plot Confusion Matrix\n",
        "def plot_confusion_matrix(true_bboxes, predicted_bboxes, predicted_labels, object_counts, iou_threshold=0.5):\n",
        "    true_labels = []\n",
        "    pred_labels = []\n",
        "\n",
        "    for i in range(len(true_bboxes)):\n",
        "        true_boxes = true_bboxes[i]\n",
        "        pred_boxes = predicted_bboxes[i]\n",
        "        pred_label_scores = predicted_labels[i]\n",
        "        true_count = len(true_boxes)\n",
        "        pred_count = object_counts[i]\n",
        "\n",
        "        matched = np.zeros(true_count, dtype=bool)\n",
        "\n",
        "        for j in range(pred_count):\n",
        "            pred_box = pred_boxes[j]\n",
        "            pred_label = np.argmax(pred_label_scores[j])\n",
        "\n",
        "            best_iou = 0\n",
        "            true_label = None\n",
        "            for k in range(true_count):\n",
        "                if matched[k]:\n",
        "                    continue\n",
        "                iou = calculate_iou(pred_box, true_boxes[k])\n",
        "                if iou > best_iou:\n",
        "                    best_iou = iou\n",
        "                    true_label = k\n",
        "\n",
        "            if best_iou >= iou_threshold and true_label is not None:\n",
        "                matched[true_label] = True\n",
        "                true_labels.append(np.argmax(true_bboxes[i][true_label]))\n",
        "                pred_labels.append(pred_label)\n",
        "            else:\n",
        "                pred_labels.append(pred_label)\n",
        "                true_labels.append(pred_label)  # Consider as false positive\n",
        "\n",
        "    # Calculating and plotting the confusion matrix\n",
        "    cm = confusion_matrix(true_labels, pred_labels, labels=list(range(num_classes)))\n",
        "    disp = ConfusionMatrixDisplay(confusion_matrix=cm, display_labels=list(categories.values()))\n",
        "    disp.plot(cmap=plt.cm.Blues)\n",
        "    plt.title('Confusion Matrix for Best Model')\n",
        "    plt.show()\n",
        "\n",
        "# Plotting the Confusion Matrix\n",
        "plot_confusion_matrix(test_bboxes, bbox_predictions, class_predictions, object_counts)\n"
      ]
    },
    {
      "cell_type": "markdown",
      "metadata": {
        "id": "-tL4ZsE3CLpq"
      },
      "source": [
        "### Classification Report\n",
        "The model's classification performance using Precision, Recall and F1-Score is computed using the standard 0.5 threshold"
      ]
    },
    {
      "cell_type": "code",
      "execution_count": 107,
      "metadata": {
        "colab": {
          "base_uri": "https://localhost:8080/"
        },
        "id": "rrC042fDAmTx",
        "outputId": "4979ea30-6442-4610-e804-26a7e151ac8f"
      },
      "outputs": [
        {
          "name": "stdout",
          "output_type": "stream",
          "text": [
            "|              |   precision |   recall |   f1-score |\n",
            "|:-------------|------------:|---------:|-----------:|\n",
            "| Disorganized |    0.857143 | 0.664615 |   0.7487   |\n",
            "| Empty        |    0.561753 | 0.810345 |   0.663529 |\n",
            "| micro avg    |    0.709742 | 0.715431 |   0.712575 |\n",
            "| macro avg    |    0.709448 | 0.73748  |   0.706115 |\n",
            "| weighted avg |    0.754141 | 0.715431 |   0.719001 |\n"
          ]
        }
      ],
      "source": [
        "import numpy as np\n",
        "from sklearn.metrics import classification_report\n",
        "\n",
        "# Function to generate the classification report\n",
        "def generate_classification_report(true_bboxes, predicted_bboxes, predicted_labels, object_counts, iou_threshold=0.5):\n",
        "    true_labels = []\n",
        "    pred_labels = []\n",
        "\n",
        "    for i in range(len(true_bboxes)):\n",
        "        true_boxes = true_bboxes[i]\n",
        "        pred_boxes = predicted_bboxes[i]\n",
        "        pred_label_scores = predicted_labels[i]\n",
        "        true_count = len(true_boxes)\n",
        "        pred_count = object_counts[i]\n",
        "\n",
        "        matched = np.zeros(true_count, dtype=bool)\n",
        "\n",
        "        for j in range(pred_count):\n",
        "            pred_box = pred_boxes[j]\n",
        "            pred_label = np.argmax(pred_label_scores[j])\n",
        "\n",
        "            best_iou = 0\n",
        "            true_label = None\n",
        "            for k in range(true_count):\n",
        "                if matched[k]:\n",
        "                    continue\n",
        "                iou = calculate_iou(pred_box, true_boxes[k])\n",
        "                if iou > best_iou:\n",
        "                    best_iou = iou\n",
        "                    true_label = k\n",
        "\n",
        "            if best_iou >= iou_threshold and true_label is not None:\n",
        "                matched[true_label] = True\n",
        "                true_labels.append(np.argmax(true_bboxes[i][true_label]))\n",
        "                pred_labels.append(pred_label)\n",
        "            else:\n",
        "                pred_labels.append(pred_label)\n",
        "                true_labels.append(-1)  # -1 for unmatched predictions\n",
        "\n",
        "    # Filtering out the unmatched predictions from the classification report\n",
        "    valid_indices = [i for i in range(len(true_labels)) if true_labels[i] != -1]\n",
        "    true_labels = [true_labels[i] for i in valid_indices]\n",
        "    pred_labels = [pred_labels[i] for i in valid_indices]\n",
        "\n",
        "    # Generating the classification report\n",
        "    report = classification_report(true_labels, pred_labels, labels=list(range(num_classes)), target_names=list(categories.values()), output_dict=True)\n",
        "\n",
        "    return report\n",
        "\n",
        "# Generating the classification report\n",
        "report = generate_classification_report(test_bboxes, bbox_predictions, class_predictions, object_counts)\n",
        "\n",
        "# Displaying the classification report in table form\n",
        "import pandas as pd\n",
        "\n",
        "report_df = pd.DataFrame(report).transpose()\n",
        "\n",
        "# Printing the dataframe as a table\n",
        "print(report_df[['precision', 'recall', 'f1-score']].to_markdown())\n"
      ]
    }
  ],
  "metadata": {
    "accelerator": "GPU",
    "colab": {
      "gpuType": "T4",
      "provenance": []
    },
    "kernelspec": {
      "display_name": "Python 3",
      "name": "python3"
    },
    "language_info": {
      "name": "python"
    }
  },
  "nbformat": 4,
  "nbformat_minor": 0
}
