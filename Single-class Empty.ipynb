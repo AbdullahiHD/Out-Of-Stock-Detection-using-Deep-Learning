{
  "cells": [
    {
      "cell_type": "markdown",
      "metadata": {
        "id": "lBh4betRhOVB"
      },
      "source": [
        "# **SINGLE CLASS-EMPTY MODEL**\n",
        "The single class-Empty model detects and classifies objects in images that have items missing on their shelvs, as 'Empty'. It processes input images, predicts bounding boxes for detected objects, and assigns a class label to each object, facilitating for out-of-stock detection for retail stores using Computer Vision"
      ]
    },
    {
      "cell_type": "markdown",
      "metadata": {
        "id": "av6_nEr-hblO"
      },
      "source": [
        "## **IMPORTING LIBRARIES**"
      ]
    },
    {
      "cell_type": "code",
      "execution_count": 11,
      "metadata": {
        "id": "zvba4ehchLdg"
      },
      "outputs": [],
      "source": [
        "import os\n",
        "import json\n",
        "from PIL import Image\n",
        "import numpy as np\n",
        "from tensorflow.keras.utils import to_categorical\n",
        "from tensorflow.keras.applications.resnet50 import preprocess_input, ResNet50\n",
        "from tensorflow.keras.models import Model\n",
        "from tensorflow.keras.layers import GlobalAveragePooling2D, BatchNormalization, Dense, Dropout, Reshape\n",
        "from tensorflow.keras.regularizers import l2\n",
        "from tensorflow.keras.optimizers import Adam\n",
        "from tensorflow.keras.callbacks import ModelCheckpoint, EarlyStopping\n",
        "from sklearn.model_selection import train_test_split\n",
        "from imblearn.over_sampling import RandomOverSampler\n",
        "from tensorflow.keras.preprocessing.image import ImageDataGenerator"
      ]
    },
    {
      "cell_type": "markdown",
      "metadata": {
        "id": "xNvKFB1NhmAX"
      },
      "source": [
        "## **DATA LOADING AND PREPARATION**"
      ]
    },
    {
      "cell_type": "code",
      "execution_count": 12,
      "metadata": {
        "colab": {
          "base_uri": "https://localhost:8080/"
        },
        "id": "7ICvYhPAhrM9",
        "outputId": "ae6a8eb3-9530-4647-8d9d-469801293fd7"
      },
      "outputs": [
        {
          "name": "stdout",
          "output_type": "stream",
          "text": [
            "Drive already mounted at /content/drive; to attempt to forcibly remount, call drive.mount(\"/content/drive\", force_remount=True).\n"
          ]
        }
      ],
      "source": [
        "from google.colab import drive\n",
        "\n",
        "drive.mount('/content/drive')"
      ]
    },
    {
      "cell_type": "code",
      "execution_count": 13,
      "metadata": {
        "id": "42Nl8jkah4EN"
      },
      "outputs": [],
      "source": [
        "# Path to datasets\n",
        "images_dir = '/content/drive/MyDrive/IProject/Train/Images'\n",
        "annotations_dir = '/content/drive/MyDrive/IProject/Train/Annotations'\n",
        "\n",
        "# Categories mapping for single-class model\n",
        "# categories = {'Empty': 1, 'Organized': 0}\n",
        "\n"
      ]
    },
    {
      "cell_type": "markdown",
      "metadata": {
        "id": "Ov-F6PLukKTQ"
      },
      "source": [
        "### This code block loads the train and processes the train data\n",
        " `load_annotations`: Load and normalize annotation labels and bounding boxes.\n",
        "`preprocess_image`: Resize and normalize image for model input."
      ]
    },
    {
      "cell_type": "code",
      "execution_count": 14,
      "metadata": {
        "id": "vHDe4zdtioRu"
      },
      "outputs": [],
      "source": [
        "def load_annotations(annotation_path, image_size):\n",
        "    \"\"\"\n",
        "    Load annotations from a JSON file and normalize bounding box coordinates.\n",
        "\n",
        "    Parameters:\n",
        "    - annotation_path: str, path to the annotation JSON file.\n",
        "    - image_size: tuple, dimensions of the image (height, width).\n",
        "\n",
        "    Returns:\n",
        "    - labels: list, normalized labels corresponding to annotations.\n",
        "    - bboxes: list, normalized bounding box coordinates.\n",
        "    \"\"\"\n",
        "    with open(annotation_path, 'r') as file:\n",
        "        annotations = json.load(file)  # Load annotations from the JSON file\n",
        "\n",
        "    labels = []  # List to store labels\n",
        "    bboxes = []  # List to store bounding boxes\n",
        "\n",
        "    for annotation in annotations:\n",
        "        for ann in annotation['annotations']:\n",
        "            label = ann['label']\n",
        "            if label is None:  # Skip annotations with unrecognized labels\n",
        "                continue\n",
        "            x, y, width, height = ann['coordinates'].values()  # Extract bounding box coordinates\n",
        "\n",
        "            # Normalize bounding box coordinates\n",
        "            norm_x = x / image_size[1]\n",
        "            norm_y = y / image_size[0]\n",
        "            norm_width = width / image_size[1]\n",
        "            norm_height = height / image_size[0]\n",
        "\n",
        "            labels.append(0)  # Append 'Empty' class label (single class)\n",
        "            bboxes.append([norm_x, norm_y, norm_width, norm_height])  # Append the normalized bounding box\n",
        "\n",
        "    return labels, bboxes\n",
        "\n",
        "\n",
        "def preprocess_image(image_path):\n",
        "    \"\"\"\n",
        "    Preprocess an image for model input by resizing and normalizing pixel values.\n",
        "\n",
        "    Parameters:\n",
        "    - image_path: str, path to the image file.\n",
        "\n",
        "    Returns:\n",
        "    - image_data: np.array, preprocessed image data ready for model input.\n",
        "    \"\"\"\n",
        "    image = Image.open(image_path)  # Open the image file\n",
        "    image = image.resize((300, 300))  # Resize the image to 300x300 pixels\n",
        "    image_data = np.array(image)  # Convert the image to a numpy array\n",
        "    image_data = preprocess_input(image_data)  # Normalize the pixel values\n",
        "    return image_data\n"
      ]
    },
    {
      "cell_type": "markdown",
      "metadata": {
        "id": "2DFJtI1el8nr"
      },
      "source": [
        "### Padding and one-hot encode labels, pad bounding boxes for annotations."
      ]
    },
    {
      "cell_type": "code",
      "execution_count": 15,
      "metadata": {
        "id": "SeH1S9cektzs"
      },
      "outputs": [],
      "source": [
        "import numpy as np\n",
        "import os\n",
        "from PIL import Image\n",
        "from tensorflow.keras.applications.resnet50 import preprocess_input\n",
        "\n",
        "def pad_annotations(labels, bboxes, max_objects=20, num_classes=1):\n",
        "    \"\"\"\n",
        "    Pad labels and bounding boxes to a fixed size.\n",
        "\n",
        "    Parameters:\n",
        "    - labels: list, list of labels for an image.\n",
        "    - bboxes: list, list of bounding boxes for an image.\n",
        "    - max_objects: int, maximum number of objects to pad (default is 20).\n",
        "    - num_classes: int, number of classes for one-hot encoding (default is 1).\n",
        "\n",
        "    Returns:\n",
        "    - padded_labels: np.array, array of one-hot encoded labels with padding.\n",
        "    - padded_bboxes: np.array, array of bounding boxes with padding.\n",
        "    \"\"\"\n",
        "    padded_labels = np.zeros((max_objects, num_classes), dtype=np.float32)  # Initialize padded labels array\n",
        "    padded_bboxes = np.zeros((max_objects, 4), dtype=np.float32)  # Initialize padded bounding boxes array\n",
        "\n",
        "    num_labels = len(labels)  # Number of labels\n",
        "    for i in range(min(num_labels, max_objects)):\n",
        "        padded_labels[i, 0] = 1  # Single-class label\n",
        "        padded_bboxes[i] = bboxes[i]  # Copy bounding box\n",
        "\n",
        "    return padded_labels, padded_bboxes"
      ]
    },
    {
      "cell_type": "markdown",
      "metadata": {
        "id": "bVVUphJtmt9v"
      },
      "source": [
        "### Create padded dataset from images and annotations, including labels, bounding boxes, filenames, and object counts."
      ]
    },
    {
      "cell_type": "code",
      "execution_count": 16,
      "metadata": {
        "id": "AS67WZzgkyxt"
      },
      "outputs": [],
      "source": [
        "def create_padded_dataset(images_dir, annotations_dir, image_size=(300, 300), max_objects=20):\n",
        "    \"\"\"\n",
        "    Create a dataset with padded annotations from images and their corresponding annotations.\n",
        "\n",
        "    Parameters:\n",
        "    - images_dir: str, directory containing the images.\n",
        "    - annotations_dir: str, directory containing the annotation JSON files.\n",
        "    - image_size: tuple, target size for resizing images (default is (300, 300)).\n",
        "    - max_objects: int, maximum number of objects to pad (default is 20).\n",
        "\n",
        "    Returns:\n",
        "    - data: np.array, array of preprocessed images.\n",
        "    - class_labels: np.array, array of one-hot encoded labels with padding.\n",
        "    - bboxes: np.array, array of padded bounding boxes.\n",
        "    - filenames: list, list of filenames for each image.\n",
        "    - object_counts: np.array, array of object counts for each image.\n",
        "    \"\"\"\n",
        "    data = []  # List to store preprocessed images\n",
        "    class_labels = []  # List to store padded labels\n",
        "    bboxes = []  # List to store padded bounding boxes\n",
        "    filenames = []  # List to store filenames\n",
        "    object_counts = []  # List to store object counts\n",
        "\n",
        "    for image_file in os.listdir(images_dir):\n",
        "        image_path = os.path.join(images_dir, image_file)\n",
        "        processed_image = preprocess_image(image_path)\n",
        "\n",
        "        annotation_file = image_file.replace('.png', '.json')  # Find the corresponding annotation file\n",
        "        annotation_path = os.path.join(annotations_dir, annotation_file)  # Construct full path to the annotation file\n",
        "\n",
        "        if os.path.exists(annotation_path):\n",
        "            image_labels, image_bboxes = load_annotations(annotation_path, image_size)  # Load annotations if the file exists\n",
        "            if not image_labels:  # Check if image_labels list is empty after processing\n",
        "                continue  # Skip this image if no valid annotations were found\n",
        "\n",
        "            padded_labels, padded_bboxes = pad_annotations(image_labels, image_bboxes, max_objects, num_classes=1)  # Pad annotations\n",
        "            data.append(processed_image)  # Append the processed image to the data list\n",
        "            class_labels.append(padded_labels)  # Append the padded labels to the class_labels list\n",
        "            bboxes.append(padded_bboxes)  # Append the padded bounding boxes to the bboxes list\n",
        "            filenames.append(image_file)  # Append the filename to the filenames list\n",
        "            object_counts.append(len(image_labels))  # Append the object count to the object_counts list\n",
        "        else:\n",
        "            continue  # Skip images without annotations\n",
        "\n",
        "    return np.array(data), np.array(class_labels), np.array(bboxes), filenames, np.array(object_counts)"
      ]
    },
    {
      "cell_type": "markdown",
      "metadata": {
        "id": "YAq5LmulmztO"
      },
      "source": [
        "## **MODEL BUILDING**"
      ]
    },
    {
      "cell_type": "markdown",
      "metadata": {
        "id": "s1b83ix5nJ3z"
      },
      "source": [
        "### Creating the ResNet50 pre-trained model backbone for Transfer Learning"
      ]
    },
    {
      "cell_type": "code",
      "execution_count": 17,
      "metadata": {
        "id": "Ti6cDLhinTaF"
      },
      "outputs": [],
      "source": [
        "def create_resnet50_backbone(input_shape, max_objects=20, num_classes=1, rate=0.01):\n",
        "    \"\"\"\n",
        "    Create a ResNet50-based model for object detection with bounding box and class outputs.\n",
        "\n",
        "    Parameters:\n",
        "    - input_shape: tuple, shape of the input images (height, width, channels).\n",
        "    - max_objects: int, maximum number of objects per image (default is 20).\n",
        "    - num_classes: int, number of classes for classification (default is 1).\n",
        "    - rate: float, regularization rate for the dense layer (default is 0.01).\n",
        "\n",
        "    Returns:\n",
        "    - model: keras.Model, compiled model with ResNet50 backbone and custom outputs.\n",
        "    \"\"\"\n",
        "    # Loading the ResNet50 model with pretrained weights, excluding the top layer\n",
        "    base_model = ResNet50(include_top=False, weights='imagenet', input_shape=input_shape)\n",
        "\n",
        "    # Freezing all layers except the last 50 layers for fine-tuning\n",
        "    for layer in base_model.layers[:-50]:\n",
        "        layer.trainable = False\n",
        "    for layer in base_model.layers[-50:]:\n",
        "        layer.trainable = True\n",
        "\n",
        "    # Adding custom layers on top of the base model\n",
        "    x = base_model.output\n",
        "    x = GlobalAveragePooling2D()(x)  # Global average pooling layer\n",
        "    x = BatchNormalization()(x)  # Batch normalization layer\n",
        "    x = Dense(1024, activation='relu', kernel_regularizer=l2(rate))(x)  # Dense layer with L2 regularization\n",
        "    x = Dropout(0.8)(x)  # Dropout layer to prevent overfitting\n",
        "\n",
        "    # Defining the output layer for bounding box predictions\n",
        "    num_bbox_outputs = max_objects * 4\n",
        "    bbox_output = Dense(num_bbox_outputs, activation='sigmoid')(x)  # Dense layer with sigmoid activation\n",
        "    bbox_output = Reshape((max_objects, 4), name='bbox_output')(bbox_output)  # Reshape output to (max_objects, 4)\n",
        "\n",
        "    # Defining the output layer for class predictions\n",
        "    num_class_outputs = max_objects * num_classes\n",
        "    class_output = Dense(num_class_outputs, activation='sigmoid')(x)  # Dense layer with sigmoid activation\n",
        "    class_output = Reshape((max_objects, num_classes), name='class_output')(class_output)  # Reshape output to (max_objects, num_classes)\n",
        "\n",
        "    # Creating the final model\n",
        "    model = Model(inputs=base_model.input, outputs=[bbox_output, class_output])\n",
        "\n",
        "    return model"
      ]
    },
    {
      "cell_type": "markdown",
      "metadata": {
        "id": "fm6BcYSlpUfe"
      },
      "source": [
        "### This `combined_generator` function to generate batches of images with corresponding class labels and bounding boxes"
      ]
    },
    {
      "cell_type": "code",
      "execution_count": 18,
      "metadata": {
        "id": "ObWDWmNQpR9J"
      },
      "outputs": [],
      "source": [
        "def combined_generator(image_gen, class_labels, bboxes, max_objects, num_classes):\n",
        "    \"\"\"\n",
        "    Generate batches of images and their corresponding labels and bounding boxes.\n",
        "\n",
        "    Parameters:\n",
        "    - image_gen: ImageDataGenerator, generator for image batches.\n",
        "    - class_labels: np.array, array of class labels.\n",
        "    - bboxes: np.array, array of bounding boxes.\n",
        "    - max_objects: int, maximum number of objects per image.\n",
        "    - num_classes: int, number of classes for classification.\n",
        "\n",
        "    Returns:\n",
        "    - image_batch: np.array, batch of images.\n",
        "    - dict: dictionary containing class labels and bounding boxes.\n",
        "    \"\"\"\n",
        "    while True:\n",
        "        image_batch = next(image_gen)  # Getting the next batch of images\n",
        "        batch_size = image_batch.shape[0]  # Get the batch size\n",
        "        class_labels_batch = np.zeros((batch_size, max_objects, num_classes), dtype=np.float32)  # Initialize batch for class labels\n",
        "        bboxes_batch = np.zeros((batch_size, max_objects, 4), dtype=np.float32)  # Initialize batch for bounding boxes\n",
        "        for i in range(batch_size):\n",
        "            idx = (image_gen.batch_index - 1) * image_gen.batch_size + i\n",
        "            if idx < len(class_labels):\n",
        "                class_labels_batch[i] = class_labels[idx]  # Assign class labels to batch\n",
        "                bboxes_batch[i] = bboxes[idx]  # Assign bounding boxes to batch\n",
        "        yield image_batch, {'class_output': class_labels_batch, 'bbox_output': bboxes_batch}"
      ]
    },
    {
      "cell_type": "markdown",
      "metadata": {
        "id": "Y3uvQbeJpmF8"
      },
      "source": [
        "### Functions to create compile and train the model using images and annotations from specified directories."
      ]
    },
    {
      "cell_type": "code",
      "execution_count": 19,
      "metadata": {
        "id": "DQ93PqlDootM"
      },
      "outputs": [],
      "source": [
        "def compile_and_train_model(model, images_dir, annotations_dir, max_objects=20, epochs=40):\n",
        "    \"\"\"\n",
        "    Compile and train the model using the specified directories for images and annotations.\n",
        "\n",
        "    Parameters:\n",
        "    - model: keras.Model, the model to be trained.\n",
        "    - images_dir: str, directory containing the images.\n",
        "    - annotations_dir: str, directory containing the annotation JSON files.\n",
        "    - max_objects: int, maximum number of objects per image (default is 20).\n",
        "    - epochs: int, number of epochs for training (default is 30).\n",
        "\n",
        "    Returns:\n",
        "    - history: keras.callbacks.History, history of the training process.\n",
        "    \"\"\"\n",
        "    # Create padded dataset from images and annotations\n",
        "    data, class_labels, bboxes, filenames, object_counts = create_padded_dataset(images_dir, annotations_dir, max_objects=max_objects)\n",
        "\n",
        "    # Flatten the class labels to determine if an image contains any objects (binary: 0 or 1)\n",
        "    flat_labels = [1 if np.sum(cls) > 0 else 0 for cls in class_labels]\n",
        "    # Flatten the image data to a 2D array for oversampling\n",
        "    data_flat = data.reshape(data.shape[0], -1)\n",
        "\n",
        "    # Check if there is more than one class to perform oversampling\n",
        "    if len(np.unique(flat_labels)) > 1:\n",
        "        # Apply RandomOverSampler to balance the classes\n",
        "        ros = RandomOverSampler()\n",
        "        data_resampled, flat_labels_resampled = ros.fit_resample(data_flat, flat_labels)\n",
        "\n",
        "        # Reshape the resampled data back to its original shape\n",
        "        data_resampled = data_resampled.reshape(-1, *data.shape[1:])\n",
        "        # Resample the class labels and bounding boxes according to the oversampled indices\n",
        "        class_labels_resampled = np.array([class_labels[i] for i in ros.sample_indices_])\n",
        "        bboxes_resampled = np.array([bboxes[i] for i in ros.sample_indices_])\n",
        "    else:\n",
        "        # If only one class, no resampling is needed\n",
        "        data_resampled = data\n",
        "        class_labels_resampled = class_labels\n",
        "        bboxes_resampled = bboxes\n",
        "\n",
        "    # Compile the model with specified optimizer, loss functions, and metrics\n",
        "    model.compile(\n",
        "        optimizer=Adam(learning_rate=1e-4),\n",
        "        loss={'bbox_output': 'mse', 'class_output': 'binary_crossentropy'},\n",
        "        metrics={'bbox_output': 'mse', 'class_output': 'accuracy'}\n",
        "    )\n",
        "\n",
        "    # Define callbacks for saving the best model and early stopping to avoid overfitting\n",
        "    checkpoint = ModelCheckpoint('/content/drive/MyDrive/IProject/Trained_Models/Best Model.keras', save_best_only=True, monitor='class_output_loss', mode='min')\n",
        "    early_stopping = EarlyStopping(patience=10, monitor='class_output_loss', mode='min', restore_best_weights=True)\n",
        "\n",
        "    # Create an image data generator with augmentation parameters to enhance the training dataset\n",
        "    datagen = ImageDataGenerator(\n",
        "        rotation_range=30,\n",
        "        width_shift_range=0.3,\n",
        "        height_shift_range=0.3,\n",
        "        shear_range=0.3,\n",
        "        zoom_range=0.3,\n",
        "        horizontal_flip=True,\n",
        "        vertical_flip=True,\n",
        "        fill_mode='nearest'\n",
        "    )\n",
        "\n",
        "    # Create a data generator that yields batches of augmented images and their corresponding labels and bounding boxes\n",
        "    data_generator = datagen.flow(data_resampled, batch_size=16, shuffle=True)\n",
        "    combined_gen = combined_generator(data_generator, class_labels_resampled, bboxes_resampled, max_objects, num_classes=1)\n",
        "\n",
        "    # Train the model using the combined generator\n",
        "    history = model.fit(\n",
        "        combined_gen,  # Training data generator\n",
        "        steps_per_epoch=len(data_resampled) // 64,  # Number of steps per epoch\n",
        "        epochs=epochs,  # Number of epochs to train the model\n",
        "        validation_data=(data_resampled, {'class_output': class_labels_resampled, 'bbox_output': bboxes_resampled}),  # Validation data\n",
        "        callbacks=[checkpoint, early_stopping]  # Callbacks for checkpointing and early stopping\n",
        "    )\n",
        "\n",
        "    return history  # Return the history of the training process"
      ]
    },
    {
      "cell_type": "markdown",
      "metadata": {
        "id": "-jwfVhslrQ6C"
      },
      "source": [
        "### Training The Model"
      ]
    },
    {
      "cell_type": "code",
      "execution_count": 20,
      "metadata": {
        "colab": {
          "base_uri": "https://localhost:8080/"
        },
        "id": "phKy0_gXrJ2o",
        "outputId": "2d7d7b8b-9d4d-4162-b57c-f6ce9c1c6335"
      },
      "outputs": [
        {
          "name": "stdout",
          "output_type": "stream",
          "text": [
            "Epoch 1/40\n",
            "8/8 [==============================] - 296s 39s/step - loss: 14.9549 - bbox_output_loss: 0.3118 - class_output_loss: 1.1098 - bbox_output_mse: 0.3118 - class_output_accuracy: 0.5512 - val_loss: 14.2269 - val_bbox_output_loss: 0.2088 - val_class_output_loss: 0.6228 - val_bbox_output_mse: 0.2088 - val_class_output_accuracy: 0.6496\n",
            "Epoch 2/40\n",
            "8/8 [==============================] - 283s 39s/step - loss: 14.5054 - bbox_output_loss: 0.2852 - class_output_loss: 0.9224 - bbox_output_mse: 0.2852 - class_output_accuracy: 0.6027 - val_loss: 13.9296 - val_bbox_output_loss: 0.1798 - val_class_output_loss: 0.5752 - val_bbox_output_mse: 0.1798 - val_class_output_accuracy: 0.6996\n",
            "Epoch 3/40\n",
            "8/8 [==============================] - 282s 39s/step - loss: 14.2255 - bbox_output_loss: 0.2585 - class_output_loss: 0.8857 - bbox_output_mse: 0.2585 - class_output_accuracy: 0.6160 - val_loss: 13.6515 - val_bbox_output_loss: 0.1530 - val_class_output_loss: 0.5366 - val_bbox_output_mse: 0.1530 - val_class_output_accuracy: 0.7402\n",
            "Epoch 4/40\n",
            "8/8 [==============================] - 270s 37s/step - loss: 13.9282 - bbox_output_loss: 0.2353 - class_output_loss: 0.8230 - bbox_output_mse: 0.2353 - class_output_accuracy: 0.6348 - val_loss: 13.3730 - val_bbox_output_loss: 0.1290 - val_class_output_loss: 0.4917 - val_bbox_output_mse: 0.1290 - val_class_output_accuracy: 0.7825\n",
            "Epoch 5/40\n",
            "8/8 [==============================] - 281s 40s/step - loss: 13.6259 - bbox_output_loss: 0.2127 - class_output_loss: 0.7582 - bbox_output_mse: 0.2127 - class_output_accuracy: 0.6793 - val_loss: 13.1112 - val_bbox_output_loss: 0.1101 - val_class_output_loss: 0.4502 - val_bbox_output_mse: 0.1101 - val_class_output_accuracy: 0.8207\n",
            "Epoch 6/40\n",
            "8/8 [==============================] - 281s 39s/step - loss: 13.3459 - bbox_output_loss: 0.1938 - class_output_loss: 0.6889 - bbox_output_mse: 0.1938 - class_output_accuracy: 0.7035 - val_loss: 12.8536 - val_bbox_output_loss: 0.0932 - val_class_output_loss: 0.4098 - val_bbox_output_mse: 0.0932 - val_class_output_accuracy: 0.8508\n",
            "Epoch 7/40\n",
            "8/8 [==============================] - 261s 36s/step - loss: 13.0998 - bbox_output_loss: 0.1765 - class_output_loss: 0.6601 - bbox_output_mse: 0.1765 - class_output_accuracy: 0.7105 - val_loss: 12.6041 - val_bbox_output_loss: 0.0778 - val_class_output_loss: 0.3753 - val_bbox_output_mse: 0.0778 - val_class_output_accuracy: 0.8663\n",
            "Epoch 8/40\n",
            "8/8 [==============================] - 284s 39s/step - loss: 12.8580 - bbox_output_loss: 0.1623 - class_output_loss: 0.6316 - bbox_output_mse: 0.1623 - class_output_accuracy: 0.7359 - val_loss: 12.3644 - val_bbox_output_loss: 0.0648 - val_class_output_loss: 0.3471 - val_bbox_output_mse: 0.0648 - val_class_output_accuracy: 0.8716\n",
            "Epoch 9/40\n",
            "8/8 [==============================] - 257s 36s/step - loss: 12.5558 - bbox_output_loss: 0.1473 - class_output_loss: 0.5475 - bbox_output_mse: 0.1473 - class_output_accuracy: 0.7651 - val_loss: 12.1392 - val_bbox_output_loss: 0.0538 - val_class_output_loss: 0.3275 - val_bbox_output_mse: 0.0538 - val_class_output_accuracy: 0.8744\n",
            "Epoch 10/40\n",
            "8/8 [==============================] - 386s 53s/step - loss: 12.3232 - bbox_output_loss: 0.1396 - class_output_loss: 0.5105 - bbox_output_mse: 0.1396 - class_output_accuracy: 0.7844 - val_loss: 11.9307 - val_bbox_output_loss: 0.0450 - val_class_output_loss: 0.3218 - val_bbox_output_mse: 0.0450 - val_class_output_accuracy: 0.8729\n",
            "Epoch 11/40\n",
            "8/8 [==============================] - 276s 38s/step - loss: 12.1497 - bbox_output_loss: 0.1292 - class_output_loss: 0.5412 - bbox_output_mse: 0.1292 - class_output_accuracy: 0.7727 - val_loss: 11.7332 - val_bbox_output_loss: 0.0386 - val_class_output_loss: 0.3240 - val_bbox_output_mse: 0.0386 - val_class_output_accuracy: 0.8760\n",
            "Epoch 12/40\n",
            "8/8 [==============================] - 278s 38s/step - loss: 11.9266 - bbox_output_loss: 0.1198 - class_output_loss: 0.5204 - bbox_output_mse: 0.1198 - class_output_accuracy: 0.7871 - val_loss: 11.5402 - val_bbox_output_loss: 0.0343 - val_class_output_loss: 0.3276 - val_bbox_output_mse: 0.0343 - val_class_output_accuracy: 0.8770\n",
            "Epoch 13/40\n",
            "8/8 [==============================] - 276s 38s/step - loss: 11.6927 - bbox_output_loss: 0.1061 - class_output_loss: 0.4953 - bbox_output_mse: 0.1061 - class_output_accuracy: 0.8056 - val_loss: 11.3589 - val_bbox_output_loss: 0.0328 - val_class_output_loss: 0.3376 - val_bbox_output_mse: 0.0328 - val_class_output_accuracy: 0.8762\n",
            "Epoch 14/40\n",
            "8/8 [==============================] - 279s 38s/step - loss: 11.5025 - bbox_output_loss: 0.0961 - class_output_loss: 0.5003 - bbox_output_mse: 0.0961 - class_output_accuracy: 0.8055 - val_loss: 11.1920 - val_bbox_output_loss: 0.0321 - val_class_output_loss: 0.3596 - val_bbox_output_mse: 0.0321 - val_class_output_accuracy: 0.8776\n",
            "Epoch 15/40\n",
            "8/8 [==============================] - 279s 38s/step - loss: 11.3364 - bbox_output_loss: 0.0922 - class_output_loss: 0.5257 - bbox_output_mse: 0.0922 - class_output_accuracy: 0.8102 - val_loss: 11.0541 - val_bbox_output_loss: 0.0316 - val_class_output_loss: 0.4090 - val_bbox_output_mse: 0.0316 - val_class_output_accuracy: 0.8806\n",
            "Epoch 16/40\n",
            "8/8 [==============================] - 281s 39s/step - loss: 11.0614 - bbox_output_loss: 0.0897 - class_output_loss: 0.4393 - bbox_output_mse: 0.0897 - class_output_accuracy: 0.8242 - val_loss: 10.8379 - val_bbox_output_loss: 0.0312 - val_class_output_loss: 0.3785 - val_bbox_output_mse: 0.0312 - val_class_output_accuracy: 0.8805\n",
            "Epoch 17/40\n",
            "8/8 [==============================] - 273s 38s/step - loss: 10.9184 - bbox_output_loss: 0.0859 - class_output_loss: 0.4859 - bbox_output_mse: 0.0859 - class_output_accuracy: 0.8185 - val_loss: 10.6101 - val_bbox_output_loss: 0.0311 - val_class_output_loss: 0.3339 - val_bbox_output_mse: 0.0311 - val_class_output_accuracy: 0.8828\n",
            "Epoch 18/40\n",
            "8/8 [==============================] - 285s 39s/step - loss: 10.6806 - bbox_output_loss: 0.0817 - class_output_loss: 0.4331 - bbox_output_mse: 0.0817 - class_output_accuracy: 0.8250 - val_loss: 10.4493 - val_bbox_output_loss: 0.0312 - val_class_output_loss: 0.3540 - val_bbox_output_mse: 0.0312 - val_class_output_accuracy: 0.8808\n",
            "Epoch 19/40\n",
            "8/8 [==============================] - 278s 39s/step - loss: 10.4997 - bbox_output_loss: 0.0740 - class_output_loss: 0.4402 - bbox_output_mse: 0.0740 - class_output_accuracy: 0.8313 - val_loss: 10.3376 - val_bbox_output_loss: 0.0317 - val_class_output_loss: 0.4212 - val_bbox_output_mse: 0.0317 - val_class_output_accuracy: 0.8781\n",
            "Epoch 20/40\n",
            "8/8 [==============================] - 254s 35s/step - loss: 10.3009 - bbox_output_loss: 0.0738 - class_output_loss: 0.4203 - bbox_output_mse: 0.0738 - class_output_accuracy: 0.8410 - val_loss: 10.2746 - val_bbox_output_loss: 0.0324 - val_class_output_loss: 0.5354 - val_bbox_output_mse: 0.0324 - val_class_output_accuracy: 0.8747\n",
            "Epoch 21/40\n",
            "8/8 [==============================] - 272s 37s/step - loss: 10.1949 - bbox_output_loss: 0.0709 - class_output_loss: 0.4931 - bbox_output_mse: 0.0709 - class_output_accuracy: 0.8190 - val_loss: 10.1412 - val_bbox_output_loss: 0.0328 - val_class_output_loss: 0.5771 - val_bbox_output_mse: 0.0328 - val_class_output_accuracy: 0.8736\n",
            "Epoch 22/40\n",
            "8/8 [==============================] - 282s 39s/step - loss: 9.9188 - bbox_output_loss: 0.0634 - class_output_loss: 0.4002 - bbox_output_mse: 0.0634 - class_output_accuracy: 0.8457 - val_loss: 10.0767 - val_bbox_output_loss: 0.0334 - val_class_output_loss: 0.6854 - val_bbox_output_mse: 0.0334 - val_class_output_accuracy: 0.8745\n",
            "Epoch 23/40\n",
            "8/8 [==============================] - 284s 39s/step - loss: 9.7997 - bbox_output_loss: 0.0639 - class_output_loss: 0.4530 - bbox_output_mse: 0.0639 - class_output_accuracy: 0.8285 - val_loss: 10.0245 - val_bbox_output_loss: 0.0337 - val_class_output_loss: 0.8043 - val_bbox_output_mse: 0.0337 - val_class_output_accuracy: 0.8695\n",
            "Epoch 24/40\n",
            "8/8 [==============================] - 278s 38s/step - loss: 9.5853 - bbox_output_loss: 0.0612 - class_output_loss: 0.4119 - bbox_output_mse: 0.0612 - class_output_accuracy: 0.8359 - val_loss: 9.9973 - val_bbox_output_loss: 0.0340 - val_class_output_loss: 0.9462 - val_bbox_output_mse: 0.0340 - val_class_output_accuracy: 0.8594\n",
            "Epoch 25/40\n",
            "8/8 [==============================] - 271s 37s/step - loss: 9.4475 - bbox_output_loss: 0.0606 - class_output_loss: 0.4400 - bbox_output_mse: 0.0606 - class_output_accuracy: 0.8353 - val_loss: 9.7923 - val_bbox_output_loss: 0.0339 - val_class_output_loss: 0.9086 - val_bbox_output_mse: 0.0339 - val_class_output_accuracy: 0.8628\n",
            "Epoch 26/40\n",
            "8/8 [==============================] - 284s 39s/step - loss: 9.2031 - bbox_output_loss: 0.0574 - class_output_loss: 0.3682 - bbox_output_mse: 0.0574 - class_output_accuracy: 0.8547 - val_loss: 9.5264 - val_bbox_output_loss: 0.0338 - val_class_output_loss: 0.8076 - val_bbox_output_mse: 0.0338 - val_class_output_accuracy: 0.8810\n",
            "Epoch 27/40\n",
            "8/8 [==============================] - 283s 38s/step - loss: 9.0926 - bbox_output_loss: 0.0578 - class_output_loss: 0.4213 - bbox_output_mse: 0.0578 - class_output_accuracy: 0.8402 - val_loss: 9.4102 - val_bbox_output_loss: 0.0342 - val_class_output_loss: 0.8539 - val_bbox_output_mse: 0.0342 - val_class_output_accuracy: 0.8858\n",
            "Epoch 28/40\n",
            "8/8 [==============================] - 278s 38s/step - loss: 8.8735 - bbox_output_loss: 0.0510 - class_output_loss: 0.3711 - bbox_output_mse: 0.0510 - class_output_accuracy: 0.8551 - val_loss: 9.3053 - val_bbox_output_loss: 0.0347 - val_class_output_loss: 0.9097 - val_bbox_output_mse: 0.0347 - val_class_output_accuracy: 0.8812\n",
            "Epoch 29/40\n",
            "8/8 [==============================] - 247s 34s/step - loss: 8.8352 - bbox_output_loss: 0.0529 - class_output_loss: 0.4859 - bbox_output_mse: 0.0529 - class_output_accuracy: 0.8336 - val_loss: 8.9427 - val_bbox_output_loss: 0.0354 - val_class_output_loss: 0.7051 - val_bbox_output_mse: 0.0354 - val_class_output_accuracy: 0.8854\n",
            "Epoch 30/40\n",
            "8/8 [==============================] - 274s 38s/step - loss: 8.5856 - bbox_output_loss: 0.0522 - class_output_loss: 0.3996 - bbox_output_mse: 0.0522 - class_output_accuracy: 0.8551 - val_loss: 8.8582 - val_bbox_output_loss: 0.0360 - val_class_output_loss: 0.7760 - val_bbox_output_mse: 0.0360 - val_class_output_accuracy: 0.8739\n",
            "Epoch 31/40\n",
            "8/8 [==============================] - 276s 38s/step - loss: 8.4181 - bbox_output_loss: 0.0517 - class_output_loss: 0.3876 - bbox_output_mse: 0.0517 - class_output_accuracy: 0.8473 - val_loss: 8.6331 - val_bbox_output_loss: 0.0358 - val_class_output_loss: 0.7049 - val_bbox_output_mse: 0.0358 - val_class_output_accuracy: 0.8826\n",
            "Epoch 32/40\n",
            "8/8 [==============================] - 277s 38s/step - loss: 8.2673 - bbox_output_loss: 0.0487 - class_output_loss: 0.3927 - bbox_output_mse: 0.0487 - class_output_accuracy: 0.8570 - val_loss: 8.4797 - val_bbox_output_loss: 0.0354 - val_class_output_loss: 0.7036 - val_bbox_output_mse: 0.0354 - val_class_output_accuracy: 0.8848\n",
            "Epoch 33/40\n",
            "8/8 [==============================] - 248s 34s/step - loss: 8.1739 - bbox_output_loss: 0.0483 - class_output_loss: 0.4437 - bbox_output_mse: 0.0483 - class_output_accuracy: 0.8358 - val_loss: 8.3832 - val_bbox_output_loss: 0.0352 - val_class_output_loss: 0.7569 - val_bbox_output_mse: 0.0352 - val_class_output_accuracy: 0.8851\n",
            "Epoch 34/40\n",
            "8/8 [==============================] - 276s 38s/step - loss: 7.9683 - bbox_output_loss: 0.0464 - class_output_loss: 0.3952 - bbox_output_mse: 0.0464 - class_output_accuracy: 0.8578 - val_loss: 8.3380 - val_bbox_output_loss: 0.0355 - val_class_output_loss: 0.8583 - val_bbox_output_mse: 0.0355 - val_class_output_accuracy: 0.8776\n",
            "Epoch 35/40\n",
            "8/8 [==============================] - 283s 39s/step - loss: 7.7898 - bbox_output_loss: 0.0466 - class_output_loss: 0.3625 - bbox_output_mse: 0.0466 - class_output_accuracy: 0.8637 - val_loss: 8.2854 - val_bbox_output_loss: 0.0354 - val_class_output_loss: 0.9506 - val_bbox_output_mse: 0.0354 - val_class_output_accuracy: 0.8632\n",
            "Epoch 36/40\n",
            "8/8 [==============================] - 276s 38s/step - loss: 7.6851 - bbox_output_loss: 0.0452 - class_output_loss: 0.4032 - bbox_output_mse: 0.0452 - class_output_accuracy: 0.8480 - val_loss: 8.1154 - val_bbox_output_loss: 0.0343 - val_class_output_loss: 0.9245 - val_bbox_output_mse: 0.0343 - val_class_output_accuracy: 0.8768\n",
            "Epoch 37/40\n",
            "8/8 [==============================] - 278s 38s/step - loss: 7.5445 - bbox_output_loss: 0.0439 - class_output_loss: 0.4057 - bbox_output_mse: 0.0439 - class_output_accuracy: 0.8445 - val_loss: 7.9381 - val_bbox_output_loss: 0.0341 - val_class_output_loss: 0.8881 - val_bbox_output_mse: 0.0341 - val_class_output_accuracy: 0.8795\n",
            "Epoch 38/40\n",
            "8/8 [==============================] - 275s 39s/step - loss: 7.3431 - bbox_output_loss: 0.0425 - class_output_loss: 0.3515 - bbox_output_mse: 0.0425 - class_output_accuracy: 0.8616 - val_loss: 7.9067 - val_bbox_output_loss: 0.0343 - val_class_output_loss: 0.9944 - val_bbox_output_mse: 0.0343 - val_class_output_accuracy: 0.8807\n",
            "Epoch 39/40\n",
            "8/8 [==============================] - 409s 57s/step - loss: 7.2177 - bbox_output_loss: 0.0418 - class_output_loss: 0.3576 - bbox_output_mse: 0.0418 - class_output_accuracy: 0.8574 - val_loss: 7.8194 - val_bbox_output_loss: 0.0344 - val_class_output_loss: 1.0430 - val_bbox_output_mse: 0.0344 - val_class_output_accuracy: 0.8790\n",
            "Epoch 40/40\n",
            "8/8 [==============================] - 351s 48s/step - loss: 7.1135 - bbox_output_loss: 0.0429 - class_output_loss: 0.3874 - bbox_output_mse: 0.0429 - class_output_accuracy: 0.8480 - val_loss: 7.6910 - val_bbox_output_loss: 0.0342 - val_class_output_loss: 1.0488 - val_bbox_output_mse: 0.0342 - val_class_output_accuracy: 0.8759\n"
          ]
        },
        {
          "data": {
            "text/plain": [
              "<keras.src.callbacks.History at 0x7c204faf3730>"
            ]
          },
          "execution_count": 20,
          "metadata": {},
          "output_type": "execute_result"
        }
      ],
      "source": [
        "# Example usage\n",
        "input_shape = (300, 300, 3)  # Define the input shape of the images\n",
        "model = create_resnet50_backbone(input_shape)  # Create the ResNet50-based model\n",
        "train_data_dir = '/content/drive/MyDrive/IProject/Train/Images'  # Define the directory for training images\n",
        "train_annotations_dir = '/content/drive/MyDrive/IProject/Train/Annotations'  # Define the directory for training annotations\n",
        "compile_and_train_model(model, train_data_dir, train_annotations_dir)  # Compile and train the model"
      ]
    },
    {
      "cell_type": "markdown",
      "metadata": {
        "id": "yllYysQ5xnva"
      },
      "source": [
        "## **Model Prediction**"
      ]
    },
    {
      "cell_type": "markdown",
      "metadata": {
        "id": "y6bJEv0RttpK"
      },
      "source": [
        "### Loading and Preparing the test data"
      ]
    },
    {
      "cell_type": "code",
      "execution_count": 21,
      "metadata": {
        "colab": {
          "base_uri": "https://localhost:8080/"
        },
        "id": "2Xan135DwUD1",
        "outputId": "75303f29-651d-4d97-8ebc-45b56d0fa317"
      },
      "outputs": [
        {
          "name": "stdout",
          "output_type": "stream",
          "text": [
            "Label counts: {'Empty': 523}\n"
          ]
        }
      ],
      "source": [
        "# Load the test dataset\n",
        "test_images_dir = '/content/drive/MyDrive/IProject/Test/Images'\n",
        "test_annotations_dir = '/content/drive/MyDrive/IProject/Test/Annotations'\n",
        "\n",
        "# Using the already defined create_padded_dataset to prepare the data\n",
        "test_images, test_labels, test_bboxes, test_filenames, object_counts = create_padded_dataset(test_images_dir, test_annotations_dir)\n",
        "\n",
        "# Counting the frequency of labels\n",
        "def count_labels(test_labels, object_counts):\n",
        "    label_counts = {'Empty': 0}\n",
        "\n",
        "    for labels, count in zip(test_labels, object_counts):\n",
        "        for i in range(count):  # Iterate through each object's labels up to the actual object count\n",
        "            if labels[i][0] == 1:  # Check if the single-class label is present\n",
        "                label_counts['Empty'] += 1\n",
        "\n",
        "    return label_counts\n",
        "\n",
        "label_counts = count_labels(test_labels, object_counts)\n",
        "print(\"Label counts:\", label_counts)"
      ]
    },
    {
      "cell_type": "markdown",
      "metadata": {
        "id": "5q6ECP9lx3Mm"
      },
      "source": [
        "### Loading the model, extraxting the model predictions and getting the frequency of model label predictions"
      ]
    },
    {
      "cell_type": "code",
      "execution_count": 22,
      "metadata": {
        "colab": {
          "base_uri": "https://localhost:8080/"
        },
        "id": "5Jzn32BJxxOL",
        "outputId": "413598f6-a3bc-49f4-86e3-f38660b4a2a5"
      },
      "outputs": [
        {
          "name": "stdout",
          "output_type": "stream",
          "text": [
            "4/4 [==============================] - 54s 13s/step\n",
            "Predicted Label Counts: {'Empty': 390}\n"
          ]
        }
      ],
      "source": [
        "import numpy as np\n",
        "from keras.models import load_model\n",
        "\n",
        "# Loading the trained model\n",
        "model = load_model('/content/drive/MyDrive/IProject/Trained_Models/ABBest_Model.keras')\n",
        "\n",
        "# Predict using the model\n",
        "predictions = model.predict(test_images)\n",
        "bbox_predictions, class_predictions = predictions[0], predictions[1]\n",
        "\n",
        "# Function to count predicted labels\n",
        "def count_predicted_labels(predicted_labels, object_counts):\n",
        "    label_counts = {'Empty': 0}\n",
        "\n",
        "    for labels, count in zip(predicted_labels, object_counts):\n",
        "        for i in range(count):  # Iterate through each object's labels up to the actual object count\n",
        "            if labels[i][0] == 1:  # Check if the single-class label is present\n",
        "                label_counts['Empty'] += 1\n",
        "\n",
        "    return label_counts\n",
        "\n",
        "# Function to denormalize bounding boxes\n",
        "def denormalize_bounding_boxes(bboxes, original_width, original_height):\n",
        "    denormalized_bboxes = []\n",
        "    for bbox in bboxes:\n",
        "        x, y, width, height = bbox\n",
        "        denormalized_bboxes.append([\n",
        "            x * original_width,\n",
        "            y * original_height,\n",
        "            width * original_width,\n",
        "            height * original_height\n",
        "        ])\n",
        "    return denormalized_bboxes\n",
        "\n",
        "# Initialize the count for predicted labels\n",
        "predicted_label_counts = {'Empty': 0}\n",
        "\n",
        "# Iterate over each test sample and print the results\n",
        "for i in range(len(test_filenames)):\n",
        "    # Get the predicted bounding boxes and class scores for this image\n",
        "    predicted_bboxes = bbox_predictions[i]\n",
        "    predicted_scores = class_predictions[i]\n",
        "\n",
        "    # Denormalize bounding boxes (assuming the original image size is 300x300)\n",
        "    denormalized_bboxes = denormalize_bounding_boxes(predicted_bboxes, 300, 300)\n",
        "\n",
        "    for j in range(object_counts[i]):  # Only consider the actual objects, ignore padding\n",
        "        bbox = denormalized_bboxes[j]\n",
        "        class_score = predicted_scores[j]\n",
        "\n",
        "        # Get the predicted class label and its score\n",
        "        predicted_class_label = 'Empty' if class_score[0] >= 0.5 else 'Not Empty'\n",
        "        predicted_class_score = class_score[0]\n",
        "\n",
        "        # Update the count for the predicted label if it is 'Empty'\n",
        "        if predicted_class_label == 'Empty':\n",
        "            predicted_label_counts['Empty'] += 1\n",
        "\n",
        "print(f\"Predicted Label Counts: {predicted_label_counts}\")"
      ]
    },
    {
      "cell_type": "markdown",
      "metadata": {
        "id": "6SYeMjtm0Aaa"
      },
      "source": [
        "## **Evaluation**"
      ]
    },
    {
      "cell_type": "markdown",
      "metadata": {
        "id": "J0xb_N7TB5UL"
      },
      "source": [
        "### Precision-Recall Curve\n",
        "A precision-recall curve evaluates the model by visualizing the trade-off between precision and recall at a 0.5 threshold in the classification model. Precision, the ratio of true positive predictions to the total predicted positives, and recall, the ratio of true positives to all actual positives, are used to evaluate the model. The Intersection over Union (IoU) for bounding boxes, along with true positives, false positives, and false negatives, is calculated. The precision-recall curves for each category, providing Average Precision (AP) values, visualize the model's performance on 'Disorganized' and 'Empty' classes."
      ]
    },
    {
      "cell_type": "code",
      "execution_count": 23,
      "metadata": {
        "colab": {
          "base_uri": "https://localhost:8080/",
          "height": 427
        },
        "id": "i6NFE7v6z9Tk",
        "outputId": "1b337db3-03c9-4e7f-8053-97924d2b69eb"
      },
      "outputs": [
        {
          "name": "stdout",
          "output_type": "stream",
          "text": [
            "Precision: 0.92, Recall: 0.14\n"
          ]
        },
        {
          "data": {
            "image/png": "[encoded data removed]",
            "text/plain": [
              "<Figure size 600x400 with 1 Axes>"
            ]
          },
          "metadata": {},
          "output_type": "display_data"
        }
      ],
      "source": [
        "import numpy as np\n",
        "import matplotlib.pyplot as plt\n",
        "from sklearn.metrics import precision_recall_curve, average_precision_score\n",
        "\n",
        "# Function to calculate Intersection over Union (IoU)\n",
        "def calculate_iou(boxA, boxB):\n",
        "    xA = max(boxA[0], boxB[0])\n",
        "    yA = max(boxA[1], boxB[1])\n",
        "    xB = min(boxA[2], boxB[2])\n",
        "    yB = min(boxA[3], boxB[3])\n",
        "\n",
        "    interArea = max(0, xB - xA + 1) * max(0, yB - yA + 1)\n",
        "    boxAArea = (boxA[2] - boxA[0] + 1) * (boxA[3] - boxA[1] + 1)\n",
        "    boxBArea = (boxB[2] - boxB[0] + 1) * (boxB[3] - boxB[1] + 1)\n",
        "\n",
        "    iou = interArea / float(boxAArea + boxBArea - interArea)\n",
        "    return iou\n",
        "\n",
        "# Function to count true positives, false positives, and false negatives based on IoU threshold\n",
        "def count_detections(true_bboxes, predicted_bboxes, predicted_labels, object_counts, iou_threshold=0.5):\n",
        "    tp, fp, fn = 0, 0, 0\n",
        "\n",
        "    for i in range(len(true_bboxes)):\n",
        "        true_boxes = true_bboxes[i]\n",
        "        pred_boxes = predicted_bboxes[i]\n",
        "        true_count = len(true_boxes)\n",
        "        pred_count = object_counts[i]\n",
        "\n",
        "        matched = np.zeros(true_count, dtype=bool)\n",
        "\n",
        "        for j in range(pred_count):\n",
        "            pred_box = pred_boxes[j]\n",
        "            pred_label = predicted_labels[i][j][0] >= 0.5  # Check if predicted label is 'Empty'\n",
        "\n",
        "            if pred_label:\n",
        "                for k in range(true_count):\n",
        "                    if matched[k]:\n",
        "                        continue\n",
        "                    iou = calculate_iou(pred_box, true_boxes[k])\n",
        "                    if iou >= iou_threshold:\n",
        "                        matched[k] = True\n",
        "                        tp += 1\n",
        "                        break\n",
        "                else:\n",
        "                    fp += 1\n",
        "\n",
        "        fn += np.sum(~matched)\n",
        "\n",
        "    return tp, fp, fn\n",
        "\n",
        "# Calculating metrics including bounding box predictions\n",
        "def calculate_bbox_metrics(true_bboxes, predicted_bboxes, predicted_labels, object_counts, iou_threshold=0.5):\n",
        "    tp, fp, fn = count_detections(true_bboxes, predicted_bboxes, predicted_labels, object_counts, iou_threshold)\n",
        "\n",
        "    precision = tp / (tp + fp) if (tp + fp) > 0 else 0\n",
        "    recall = tp / (tp + fn) if (tp + fn) > 0 else 0\n",
        "\n",
        "    return precision, recall\n",
        "\n",
        "precision, recall = calculate_bbox_metrics(test_bboxes, bbox_predictions, class_predictions, object_counts)\n",
        "\n",
        "# Printing the results\n",
        "print(f\"Precision: {precision:.2f}, Recall: {recall:.2f}\")\n",
        "\n",
        "# Plotting Precision-Recall curve\n",
        "def plot_bbox_precision_recall_curve(true_bboxes, predicted_bboxes, predicted_labels, object_counts, iou_threshold=0.5):\n",
        "    plt.figure(figsize=(6, 4))\n",
        "\n",
        "    # Creating binary labels for the 'Empty' category based on IoU threshold\n",
        "    true_binary_labels = []\n",
        "    predicted_scores = []\n",
        "\n",
        "    for i in range(len(true_bboxes)):\n",
        "        true_boxes = true_bboxes[i]\n",
        "        pred_boxes = predicted_bboxes[i]\n",
        "        pred_labels = predicted_labels[i]\n",
        "        true_count = len(true_boxes)\n",
        "        pred_count = object_counts[i]\n",
        "\n",
        "        for j in range(pred_count):\n",
        "            pred_box = pred_boxes[j]\n",
        "            score = pred_labels[j][0]  # Confidence score for 'Empty'\n",
        "            best_iou = 0\n",
        "\n",
        "            for k in range(true_count):\n",
        "                iou = calculate_iou(pred_box, true_boxes[k])\n",
        "                best_iou = max(best_iou, iou)\n",
        "\n",
        "            predicted_scores.append(score)\n",
        "            true_binary_labels.append(best_iou >= iou_threshold)\n",
        "\n",
        "    precision, recall, _ = precision_recall_curve(true_binary_labels, predicted_scores)\n",
        "    ap = average_precision_score(true_binary_labels, predicted_scores)\n",
        "\n",
        "    plt.plot(recall, precision, label='Empty AP={:.2f}'.format(ap))\n",
        "    plt.xlabel('Recall')\n",
        "    plt.ylabel('Precision')\n",
        "    plt.title('Precision-Recall curve for Best Model')\n",
        "    plt.grid(True)\n",
        "    plt.xlim([0.0, 1.0])\n",
        "    plt.ylim([0.0, 1.05])\n",
        "    plt.legend(loc='lower right')\n",
        "    plt.show()\n",
        "\n",
        "# Plotting the Precision-Recall curve\n",
        "plot_bbox_precision_recall_curve(test_bboxes, bbox_predictions, class_predictions, object_counts)\n"
      ]
    },
    {
      "cell_type": "markdown",
      "metadata": {
        "id": "mI6Vy60HCEqi"
      },
      "source": [
        "### Confusion Matrix Plot\n",
        "This code plots a confusion matrix to evaluate the performance of an object detection model. It compares the true and predicted bounding boxes, using an Intersection over Union (IoU) threshold of 0.5 to determine matches. The function calculates true and predicted labels, constructs a confusion matrix which then visualizes the model's accuracy in classifying 'Disorganized' and 'Empty' categories, highlighting true positives, false positives, and false negatives."
      ]
    },
    {
      "cell_type": "code",
      "execution_count": 24,
      "metadata": {
        "colab": {
          "base_uri": "https://localhost:8080/",
          "height": 472
        },
        "id": "sYA6XyJ21O9t",
        "outputId": "a2c4acc2-7910-4d83-8e0c-711edb486fd5"
      },
      "outputs": [
        {
          "data": {
            "image/png": "[encoded data removed]",
            "text/plain": [
              "<Figure size 640x480 with 2 Axes>"
            ]
          },
          "metadata": {},
          "output_type": "display_data"
        }
      ],
      "source": [
        "import numpy as np\n",
        "import matplotlib.pyplot as plt\n",
        "from sklearn.metrics import confusion_matrix, ConfusionMatrixDisplay\n",
        "\n",
        "# Function to plot Confusion Matrix\n",
        "def plot_confusion_matrix(true_bboxes, predicted_bboxes, predicted_labels, object_counts, iou_threshold=0.5):\n",
        "    true_labels = []\n",
        "    pred_labels = []\n",
        "\n",
        "    for i in range(len(true_bboxes)):\n",
        "        true_boxes = true_bboxes[i]\n",
        "        pred_boxes = predicted_bboxes[i]\n",
        "        pred_label_scores = predicted_labels[i]\n",
        "        true_count = len(true_boxes)\n",
        "        pred_count = object_counts[i]\n",
        "\n",
        "        matched = np.zeros(true_count, dtype=bool)\n",
        "\n",
        "        for j in range(pred_count):\n",
        "            pred_box = pred_boxes[j]\n",
        "            pred_label = int(pred_label_scores[j][0] >= 0.5)  # Binary label: 0 or 1\n",
        "\n",
        "            best_iou = 0\n",
        "            true_label = None\n",
        "            for k in range(true_count):\n",
        "                if matched[k]:\n",
        "                    continue\n",
        "                iou = calculate_iou(pred_box, true_boxes[k])\n",
        "                if iou > best_iou:\n",
        "                    best_iou = iou\n",
        "                    true_label = k\n",
        "\n",
        "            if best_iou >= iou_threshold and true_label is not None:\n",
        "                matched[true_label] = True\n",
        "                true_labels.append(1)  # True label is 'Empty'\n",
        "                pred_labels.append(pred_label)\n",
        "            else:\n",
        "                pred_labels.append(pred_label)\n",
        "                true_labels.append(0)  # Consider as false positive (no empty shelf)\n",
        "\n",
        "    # Calculating and plotting the confusion matrix\n",
        "    cm = confusion_matrix(true_labels, pred_labels, labels=[0, 1])\n",
        "    disp = ConfusionMatrixDisplay(confusion_matrix=cm, display_labels=['Not Empty', 'Empty'])\n",
        "    disp.plot(cmap=plt.cm.Blues)\n",
        "    plt.title('Confusion Matrix for Best Model')\n",
        "    plt.show()\n",
        "\n",
        "# Define the category\n",
        "categories = {0: 'Not Empty', 1: 'Empty'}\n",
        "\n",
        "# Plotting the Confusion Matrix\n",
        "plot_confusion_matrix(test_bboxes, bbox_predictions, class_predictions, object_counts)\n"
      ]
    },
    {
      "cell_type": "markdown",
      "metadata": {
        "id": "-tL4ZsE3CLpq"
      },
      "source": [
        "### Classification Report\n",
        "The model's classification performance using Precision, Recall and F1-Score is computed using the standard 0.5 threshold"
      ]
    },
    {
      "cell_type": "code",
      "execution_count": 25,
      "metadata": {
        "colab": {
          "base_uri": "https://localhost:8080/"
        },
        "id": "rrC042fDAmTx",
        "outputId": "177f53c6-1859-4298-d57e-2c3274f14995"
      },
      "outputs": [
        {
          "name": "stdout",
          "output_type": "stream",
          "text": [
            "|              |   precision |   recall |   f1-score |\n",
            "|:-------------|------------:|---------:|-----------:|\n",
            "| Not Empty    |    0.300752 | 0.56338  |   0.392157 |\n",
            "| Empty        |    0.920513 | 0.794248 |   0.852732 |\n",
            "| accuracy     |    0.762906 | 0.762906 |   0.762906 |\n",
            "| macro avg    |    0.610632 | 0.678814 |   0.622444 |\n",
            "| weighted avg |    0.836377 | 0.762906 |   0.790206 |\n"
          ]
        }
      ],
      "source": [
        "import numpy as np\n",
        "from sklearn.metrics import classification_report\n",
        "\n",
        "# Function to generate the classification report\n",
        "def generate_classification_report(true_bboxes, predicted_bboxes, predicted_labels, object_counts, iou_threshold=0.5):\n",
        "    true_labels = []\n",
        "    pred_labels = []\n",
        "\n",
        "    for i in range(len(true_bboxes)):\n",
        "        true_boxes = true_bboxes[i]\n",
        "        pred_boxes = predicted_bboxes[i]\n",
        "        pred_label_scores = predicted_labels[i]\n",
        "        true_count = len(true_boxes)\n",
        "        pred_count = object_counts[i]\n",
        "\n",
        "        matched = np.zeros(true_count, dtype=bool)\n",
        "\n",
        "        for j in range(pred_count):\n",
        "            pred_box = pred_boxes[j]\n",
        "            pred_label = int(pred_label_scores[j][0] >= 0.5)  # Binary label: 0 or 1\n",
        "\n",
        "            best_iou = 0\n",
        "            true_label = None\n",
        "            for k in range(true_count):\n",
        "                if matched[k]:\n",
        "                    continue\n",
        "                iou = calculate_iou(pred_box, true_boxes[k])\n",
        "                if iou > best_iou:\n",
        "                    best_iou = iou\n",
        "                    true_label = k\n",
        "\n",
        "            if best_iou >= iou_threshold and true_label is not None:\n",
        "                matched[true_label] = True\n",
        "                true_labels.append(1)  # True label is 'Empty'\n",
        "                pred_labels.append(pred_label)\n",
        "            else:\n",
        "                pred_labels.append(pred_label)\n",
        "                true_labels.append(0)  # Consider as false positive (no empty shelf)\n",
        "\n",
        "    # Filtering out the unmatched predictions from the classification report\n",
        "    valid_indices = [i for i in range(len(true_labels)) if true_labels[i] != -1]\n",
        "    true_labels = [true_labels[i] for i in valid_indices]\n",
        "    pred_labels = [pred_labels[i] for i in valid_indices]\n",
        "\n",
        "    # Generating the classification report\n",
        "    report = classification_report(true_labels, pred_labels, labels=[0, 1], target_names=['Not Empty', 'Empty'], output_dict=True)\n",
        "\n",
        "    return report\n",
        "\n",
        "# Generating the classification report\n",
        "report = generate_classification_report(test_bboxes, bbox_predictions, class_predictions, object_counts)\n",
        "\n",
        "# Displaying the classification report in table form\n",
        "import pandas as pd\n",
        "\n",
        "report_df = pd.DataFrame(report).transpose()\n",
        "\n",
        "# Printing the dataframe as a table\n",
        "print(report_df[['precision', 'recall', 'f1-score']].to_markdown())\n"
      ]
    }
  ],
  "metadata": {
    "accelerator": "GPU",
    "colab": {
      "gpuType": "T4",
      "provenance": []
    },
    "kernelspec": {
      "display_name": "Python 3",
      "name": "python3"
    },
    "language_info": {
      "name": "python"
    }
  },
  "nbformat": 4,
  "nbformat_minor": 0
}
