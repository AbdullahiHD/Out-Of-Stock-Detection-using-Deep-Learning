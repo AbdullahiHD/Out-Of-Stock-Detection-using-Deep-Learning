{
 "cells": [
  {
   "cell_type": "markdown",
   "metadata": {},
   "source": [
    "## Loading the Images datasets"
   ]
  },
  {
   "cell_type": "code",
   "execution_count": null,
   "metadata": {},
   "outputs": [],
   "source": [
    "from google.colab import drive\n",
    "drive.mount('/content/drive')\n"
   ]
  },
  {
   "cell_type": "markdown",
   "metadata": {},
   "source": [
    "## Resizing the Images to standard `300` by `300` for ResNet-50 backbone model"
   ]
  },
  {
   "cell_type": "code",
   "execution_count": null,
   "metadata": {},
   "outputs": [],
   "source": [
    "import zipfile\n",
    "from PIL import Image\n",
    "from io import BytesIO\n",
    "import os\n",
    "import shutil\n",
    "\n",
    "\n",
    "def resize_images_in_zip(input_zip_path, output_zip_path, size=(300, 300)):\n",
    "    \n",
    "    # Creating a temporary directory to extract files\n",
    "    temp_dir = 'temp_images'\n",
    "    os.makedirs(temp_dir, exist_ok=True)\n",
    "\n",
    "    # Extracting the contents of the input zip file\n",
    "    with zipfile.ZipFile(input_zip_path, 'r') as zip_ref:\n",
    "        zip_ref.extractall(temp_dir)\n",
    "\n",
    "    # Creating a new zip file to store resized images\n",
    "    with zipfile.ZipFile(output_zip_path, 'w') as zip_out:\n",
    "        for root, dirs, files in os.walk(temp_dir):\n",
    "            for file in files:\n",
    "                if file.lower().endswith(('.png', '.jpg', '.jpeg')):\n",
    "                    img_path = os.path.join(root, file)\n",
    "                    with Image.open(img_path) as img:\n",
    "                        # actual image resizing\n",
    "                        img_resized = img.resize(size, Image.ANTIALIAS)\n",
    "                        img_bytes = BytesIO()\n",
    "                        img_format = 'PNG' if img.format == 'PNG' else 'JPEG'\n",
    "                        img_resized.save(img_bytes, format=img_format)\n",
    "                        img_bytes.seek(0)\n",
    "\n",
    "                        # saving the resized image to the zip file\n",
    "                        arcname = os.path.relpath(img_path, temp_dir)\n",
    "                        zip_out.writestr(arcname, img_bytes.getvalue())\n",
    "\n",
    "    # Deleting the temporary directory\n",
    "    shutil.rmtree(temp_dir)\n",
    "\n",
    "# Paths for the input and output zip files\n",
    "input_zip_path = 'dataset.zip'  # Input zip file with images\n",
    "output_zip_path = 'resized_dataset.zip'  # Output zip file to save resized images\n",
    "\n",
    "# Invoking the function to resize images\n",
    "resize_images_in_zip(input_zip_path, output_zip_path)\n"
   ]
  }
 ],
 "metadata": {
  "language_info": {
   "name": "python"
  }
 },
 "nbformat": 4,
 "nbformat_minor": 2
}
