{
  "cells": [
    {
      "cell_type": "markdown",
      "metadata": {
        "id": "lBh4betRhOVB"
      },
      "source": [
        "# **Single CLASS MODEL (Disorganized)**\n",
        "The multiclass model detects and classifies objects in images into predefined categories, such as 'Disorganized' and 'Empty'. It processes input images, predicts bounding boxes for detected objects, and assigns a class label to each object, facilitating for out-of-stock detection and effective product placement management for retail stores using Computer Vision"
      ]
    },
    {
      "cell_type": "markdown",
      "metadata": {
        "id": "av6_nEr-hblO"
      },
      "source": [
        "## **IMPORTING LIBRARIES**"
      ]
    },
    {
      "cell_type": "code",
      "execution_count": 1,
      "metadata": {
        "id": "zvba4ehchLdg"
      },
      "outputs": [],
      "source": [
        "import os\n",
        "import json\n",
        "from PIL import Image\n",
        "import numpy as np\n",
        "from tensorflow.keras.utils import to_categorical\n",
        "from tensorflow.keras.applications.resnet50 import preprocess_input, ResNet50\n",
        "from tensorflow.keras.models import Model\n",
        "from tensorflow.keras.layers import GlobalAveragePooling2D, BatchNormalization, Dense, Dropout, Reshape\n",
        "from tensorflow.keras.regularizers import l2\n",
        "from tensorflow.keras.optimizers import Adam\n",
        "from tensorflow.keras.callbacks import ModelCheckpoint, EarlyStopping\n",
        "from sklearn.model_selection import train_test_split\n",
        "from imblearn.over_sampling import RandomOverSampler\n",
        "from tensorflow.keras.preprocessing.image import ImageDataGenerator\n",
        "\n",
        "# The rest of your script\n"
      ]
    },
    {
      "cell_type": "markdown",
      "metadata": {
        "id": "xNvKFB1NhmAX"
      },
      "source": [
        "## **DATA LOADING AND PREPARATION**"
      ]
    },
    {
      "cell_type": "code",
      "execution_count": 2,
      "metadata": {
        "colab": {
          "base_uri": "https://localhost:8080/"
        },
        "id": "7ICvYhPAhrM9",
        "outputId": "7096d674-b7c0-4bf6-f29c-f6558c875df2"
      },
      "outputs": [
        {
          "output_type": "stream",
          "name": "stdout",
          "text": [
            "Mounted at /content/drive\n"
          ]
        }
      ],
      "source": [
        "from google.colab import drive\n",
        "\n",
        "drive.mount('/content/drive')"
      ]
    },
    {
      "cell_type": "code",
      "execution_count": 3,
      "metadata": {
        "id": "42Nl8jkah4EN"
      },
      "outputs": [],
      "source": [
        "# Path to datasets\n",
        "images_dir = '/content/drive/MyDrive/Dataset/Product_placement/train/Images'\n",
        "annotations_dir = '/content/drive/MyDrive/Dataset/Product_placement/train/Annotations'\n",
        "\n",
        "# Categories mapping for single-class model\n",
        "# categories = {'Empty': 1, 'Organized': 0}\n",
        "\n"
      ]
    },
    {
      "cell_type": "markdown",
      "metadata": {
        "id": "Ov-F6PLukKTQ"
      },
      "source": [
        "### This code block loads the train and processes the train data\n",
        " `load_annotations`: Load and normalize annotation labels and bounding boxes.\n",
        "`preprocess_image`: Resize and normalize image for model input."
      ]
    },
    {
      "cell_type": "code",
      "execution_count": 4,
      "metadata": {
        "id": "vHDe4zdtioRu"
      },
      "outputs": [],
      "source": [
        "def load_annotations(annotation_path, image_size):\n",
        "    \"\"\"\n",
        "    Load annotations from a JSON file and normalize bounding box coordinates.\n",
        "\n",
        "    Parameters:\n",
        "    - annotation_path: str, path to the annotation JSON file.\n",
        "    - image_size: tuple, dimensions of the image (height, width).\n",
        "\n",
        "    Returns:\n",
        "    - labels: list, normalized labels corresponding to annotations.\n",
        "    - bboxes: list, normalized bounding box coordinates.\n",
        "    \"\"\"\n",
        "    with open(annotation_path, 'r') as file:\n",
        "        annotations = json.load(file)  # Load annotations from the JSON file\n",
        "\n",
        "    labels = []  # List to store labels\n",
        "    bboxes = []  # List to store bounding boxes\n",
        "\n",
        "    for annotation in annotations:\n",
        "        for ann in annotation['annotations']:\n",
        "            label = ann['label']\n",
        "            if label is None:  # Skip annotations with unrecognized labels\n",
        "                continue\n",
        "            x, y, width, height = ann['coordinates'].values()  # Extract bounding box coordinates\n",
        "\n",
        "            # Normalize bounding box coordinates\n",
        "            norm_x = x / image_size[1]\n",
        "            norm_y = y / image_size[0]\n",
        "            norm_width = width / image_size[1]\n",
        "            norm_height = height / image_size[0]\n",
        "\n",
        "            labels.append(0)  # Append 'Disorganized' class label (single class)\n",
        "            bboxes.append([norm_x, norm_y, norm_width, norm_height])  # Append the normalized bounding box\n",
        "\n",
        "    return labels, bboxes\n",
        "\n",
        "\n",
        "def preprocess_image(image_path):\n",
        "    \"\"\"\n",
        "    Preprocess an image for model input by resizing and normalizing pixel values.\n",
        "\n",
        "    Parameters:\n",
        "    - image_path: str, path to the image file.\n",
        "\n",
        "    Returns:\n",
        "    - image_data: np.array, preprocessed image data ready for model input.\n",
        "    \"\"\"\n",
        "    image = Image.open(image_path)  # Open the image file\n",
        "    image = image.resize((300, 300))  # Resize the image to 300x300 pixels\n",
        "    image_data = np.array(image)  # Convert the image to a numpy array\n",
        "    image_data = preprocess_input(image_data)  # Normalize the pixel values\n",
        "    return image_data\n"
      ]
    },
    {
      "cell_type": "markdown",
      "metadata": {
        "id": "2DFJtI1el8nr"
      },
      "source": [
        "### Padding and one-hot encode labels, pad bounding boxes for annotations."
      ]
    },
    {
      "cell_type": "code",
      "execution_count": 5,
      "metadata": {
        "id": "SeH1S9cektzs"
      },
      "outputs": [],
      "source": [
        "import numpy as np\n",
        "import os\n",
        "from PIL import Image\n",
        "from tensorflow.keras.applications.resnet50 import preprocess_input\n",
        "\n",
        "def pad_annotations(labels, bboxes, max_objects=20, num_classes=1):\n",
        "    \"\"\"\n",
        "    Pad labels and bounding boxes to a fixed size.\n",
        "\n",
        "    Parameters:\n",
        "    - labels: list, list of labels for an image.\n",
        "    - bboxes: list, list of bounding boxes for an image.\n",
        "    - max_objects: int, maximum number of objects to pad (default is 20).\n",
        "    - num_classes: int, number of classes for one-hot encoding (default is 1).\n",
        "\n",
        "    Returns:\n",
        "    - padded_labels: np.array, array of one-hot encoded labels with padding.\n",
        "    - padded_bboxes: np.array, array of bounding boxes with padding.\n",
        "    \"\"\"\n",
        "    padded_labels = np.zeros((max_objects, num_classes), dtype=np.float32)  # Initialize padded labels array\n",
        "    padded_bboxes = np.zeros((max_objects, 4), dtype=np.float32)  # Initialize padded bounding boxes array\n",
        "\n",
        "    num_labels = len(labels)  # Number of labels\n",
        "    for i in range(min(num_labels, max_objects)):\n",
        "        padded_labels[i, 0] = 1  # Single-class label\n",
        "        padded_bboxes[i] = bboxes[i]  # Copy bounding box\n",
        "\n",
        "    return padded_labels, padded_bboxes"
      ]
    },
    {
      "cell_type": "markdown",
      "metadata": {
        "id": "bVVUphJtmt9v"
      },
      "source": [
        "### Create padded dataset from images and annotations, including labels, bounding boxes, filenames, and object counts."
      ]
    },
    {
      "cell_type": "code",
      "execution_count": 6,
      "metadata": {
        "id": "AS67WZzgkyxt"
      },
      "outputs": [],
      "source": [
        "def create_padded_dataset(images_dir, annotations_dir, image_size=(300, 300), max_objects=20):\n",
        "    \"\"\"\n",
        "    Create a dataset with padded annotations from images and their corresponding annotations.\n",
        "\n",
        "    Parameters:\n",
        "    - images_dir: str, directory containing the images.\n",
        "    - annotations_dir: str, directory containing the annotation JSON files.\n",
        "    - image_size: tuple, target size for resizing images (default is (300, 300)).\n",
        "    - max_objects: int, maximum number of objects to pad (default is 20).\n",
        "\n",
        "    Returns:\n",
        "    - data: np.array, array of preprocessed images.\n",
        "    - class_labels: np.array, array of one-hot encoded labels with padding.\n",
        "    - bboxes: np.array, array of padded bounding boxes.\n",
        "    - filenames: list, list of filenames for each image.\n",
        "    - object_counts: np.array, array of object counts for each image.\n",
        "    \"\"\"\n",
        "    data = []  # List to store preprocessed images\n",
        "    class_labels = []  # List to store padded labels\n",
        "    bboxes = []  # List to store padded bounding boxes\n",
        "    filenames = []  # List to store filenames\n",
        "    object_counts = []  # List to store object counts\n",
        "\n",
        "    for image_file in os.listdir(images_dir):\n",
        "        image_path = os.path.join(images_dir, image_file)\n",
        "        processed_image = preprocess_image(image_path)\n",
        "\n",
        "        annotation_file = image_file.replace('.png', '.json')  # Find the corresponding annotation file\n",
        "        annotation_path = os.path.join(annotations_dir, annotation_file)  # Construct full path to the annotation file\n",
        "\n",
        "        if os.path.exists(annotation_path):\n",
        "            image_labels, image_bboxes = load_annotations(annotation_path, image_size)  # Load annotations if the file exists\n",
        "            if not image_labels:  # Check if image_labels list is empty after processing\n",
        "                continue  # Skip this image if no valid annotations were found\n",
        "\n",
        "            padded_labels, padded_bboxes = pad_annotations(image_labels, image_bboxes, max_objects, num_classes=1)  # Pad annotations\n",
        "            data.append(processed_image)  # Append the processed image to the data list\n",
        "            class_labels.append(padded_labels)  # Append the padded labels to the class_labels list\n",
        "            bboxes.append(padded_bboxes)  # Append the padded bounding boxes to the bboxes list\n",
        "            filenames.append(image_file)  # Append the filename to the filenames list\n",
        "            object_counts.append(len(image_labels))  # Append the object count to the object_counts list\n",
        "        else:\n",
        "            continue  # Skip images without annotations\n",
        "\n",
        "    return np.array(data), np.array(class_labels), np.array(bboxes), filenames, np.array(object_counts)"
      ]
    },
    {
      "cell_type": "markdown",
      "metadata": {
        "id": "YAq5LmulmztO"
      },
      "source": [
        "## **MODEL BUILDING**"
      ]
    },
    {
      "cell_type": "markdown",
      "metadata": {
        "id": "s1b83ix5nJ3z"
      },
      "source": [
        "### Creating the ResNet50 pre-trained model backbone for Transfer Learning"
      ]
    },
    {
      "cell_type": "code",
      "execution_count": 7,
      "metadata": {
        "id": "Ti6cDLhinTaF"
      },
      "outputs": [],
      "source": [
        "def create_resnet50_backbone(input_shape, max_objects=20, num_classes=1, rate=0.01):\n",
        "    \"\"\"\n",
        "    Create a ResNet50-based model for object detection with bounding box and class outputs.\n",
        "\n",
        "    Parameters:\n",
        "    - input_shape: tuple, shape of the input images (height, width, channels).\n",
        "    - max_objects: int, maximum number of objects per image (default is 20).\n",
        "    - num_classes: int, number of classes for classification (default is 1).\n",
        "    - rate: float, regularization rate for the dense layer (default is 0.01).\n",
        "\n",
        "    Returns:\n",
        "    - model: keras.Model, compiled model with ResNet50 backbone and custom outputs.\n",
        "    \"\"\"\n",
        "    # Loading the ResNet50 model with pretrained weights, excluding the top layer\n",
        "    base_model = ResNet50(include_top=False, weights='imagenet', input_shape=input_shape)\n",
        "\n",
        "    # Freezing all layers except the last 50 layers for fine-tuning\n",
        "    for layer in base_model.layers[:-50]:\n",
        "        layer.trainable = False\n",
        "    for layer in base_model.layers[-50:]:\n",
        "        layer.trainable = True\n",
        "\n",
        "    # Adding custom layers on top of the base model\n",
        "    x = base_model.output\n",
        "    x = GlobalAveragePooling2D()(x)  # Global average pooling layer\n",
        "    x = BatchNormalization()(x)  # Batch normalization layer\n",
        "    x = Dense(1024, activation='relu', kernel_regularizer=l2(rate))(x)  # Dense layer with L2 regularization\n",
        "    x = Dropout(0.8)(x)\n",
        "\n",
        "    # Defining the output layer for bounding box predictions\n",
        "    num_bbox_outputs = max_objects * 4\n",
        "    bbox_output = Dense(num_bbox_outputs, activation='sigmoid')(x)  # Dense layer with sigmoid activation\n",
        "    bbox_output = Reshape((max_objects, 4), name='bbox_output')(bbox_output)  # Reshape output to (max_objects, 4)\n",
        "\n",
        "    # Defining the output layer for class predictions\n",
        "    num_class_outputs = max_objects * num_classes\n",
        "    class_output = Dense(num_class_outputs, activation='sigmoid')(x)  # Dense layer with sigmoid activation\n",
        "    class_output = Reshape((max_objects, num_classes), name='class_output')(class_output)  # Reshape output to (max_objects, num_classes)\n",
        "\n",
        "    # Creating the final model\n",
        "    model = Model(inputs=base_model.input, outputs=[bbox_output, class_output])\n",
        "\n",
        "    return model"
      ]
    },
    {
      "cell_type": "markdown",
      "metadata": {
        "id": "fm6BcYSlpUfe"
      },
      "source": [
        "### This `combined_generator` function to generate batches of images with corresponding class labels and bounding boxes"
      ]
    },
    {
      "cell_type": "code",
      "execution_count": 8,
      "metadata": {
        "id": "ObWDWmNQpR9J"
      },
      "outputs": [],
      "source": [
        "def combined_generator(image_gen, class_labels, bboxes, max_objects, num_classes):\n",
        "    \"\"\"\n",
        "    Generate batches of images and their corresponding labels and bounding boxes.\n",
        "\n",
        "    Parameters:\n",
        "    - image_gen: ImageDataGenerator, generator for image batches.\n",
        "    - class_labels: np.array, array of class labels.\n",
        "    - bboxes: np.array, array of bounding boxes.\n",
        "    - max_objects: int, maximum number of objects per image.\n",
        "    - num_classes: int, number of classes for classification.\n",
        "\n",
        "    Returns:\n",
        "    - image_batch: np.array, batch of images.\n",
        "    - dict: dictionary containing class labels and bounding boxes.\n",
        "    \"\"\"\n",
        "    while True:\n",
        "        image_batch = next(image_gen)  # Getting the next batch of images\n",
        "        batch_size = image_batch.shape[0]  # Get the batch size\n",
        "        class_labels_batch = np.zeros((batch_size, max_objects, num_classes), dtype=np.float32)  # Initialize batch for class labels\n",
        "        bboxes_batch = np.zeros((batch_size, max_objects, 4), dtype=np.float32)  # Initialize batch for bounding boxes\n",
        "        for i in range(batch_size):\n",
        "            idx = (image_gen.batch_index - 1) * image_gen.batch_size + i\n",
        "            if idx < len(class_labels):\n",
        "                class_labels_batch[i] = class_labels[idx]  # Assign class labels to batch\n",
        "                bboxes_batch[i] = bboxes[idx]  # Assign bounding boxes to batch\n",
        "        yield image_batch, {'class_output': class_labels_batch, 'bbox_output': bboxes_batch}"
      ]
    },
    {
      "cell_type": "markdown",
      "metadata": {
        "id": "Y3uvQbeJpmF8"
      },
      "source": [
        "### Functions to create compile and train the model using images and annotations from specified directories."
      ]
    },
    {
      "cell_type": "code",
      "execution_count": 9,
      "metadata": {
        "id": "DQ93PqlDootM"
      },
      "outputs": [],
      "source": [
        "def compile_and_train_model(model, images_dir, annotations_dir, max_objects=20, epochs=30):\n",
        "    \"\"\"\n",
        "    Compile and train the model using the specified directories for images and annotations.\n",
        "\n",
        "    Parameters:\n",
        "    - model: keras.Model, the model to be trained.\n",
        "    - images_dir: str, directory containing the images.\n",
        "    - annotations_dir: str, directory containing the annotation JSON files.\n",
        "    - max_objects: int, maximum number of objects per image (default is 20).\n",
        "    - epochs: int, number of epochs for training (default is 30).\n",
        "\n",
        "    Returns:\n",
        "    - history: keras.callbacks.History, history of the training process.\n",
        "    \"\"\"\n",
        "    # Create padded dataset from images and annotations\n",
        "    data, class_labels, bboxes, filenames, object_counts = create_padded_dataset(images_dir, annotations_dir, max_objects=max_objects)\n",
        "\n",
        "    # Flatten the class labels to determine if an image contains any objects (binary: 0 or 1)\n",
        "    flat_labels = [1 if np.sum(cls) > 0 else 0 for cls in class_labels]\n",
        "    # Flatten the image data to a 2D array for oversampling\n",
        "    data_flat = data.reshape(data.shape[0], -1)\n",
        "\n",
        "    # Check if there is more than one class to perform oversampling\n",
        "    if len(np.unique(flat_labels)) > 1:\n",
        "        # Apply RandomOverSampler to balance the classes\n",
        "        ros = RandomOverSampler()\n",
        "        data_resampled, flat_labels_resampled = ros.fit_resample(data_flat, flat_labels)\n",
        "\n",
        "        # Reshape the resampled data back to its original shape\n",
        "        data_resampled = data_resampled.reshape(-1, *data.shape[1:])\n",
        "        # Resample the class labels and bounding boxes according to the oversampled indices\n",
        "        class_labels_resampled = np.array([class_labels[i] for i in ros.sample_indices_])\n",
        "        bboxes_resampled = np.array([bboxes[i] for i in ros.sample_indices_])\n",
        "    else:\n",
        "        # If only one class, no resampling is needed\n",
        "        data_resampled = data\n",
        "        class_labels_resampled = class_labels\n",
        "        bboxes_resampled = bboxes\n",
        "\n",
        "    # Compile the model with specified optimizer, loss functions, and metrics\n",
        "    model.compile(\n",
        "        optimizer=Adam(learning_rate=1e-4),\n",
        "        loss={'bbox_output': 'mse', 'class_output': 'binary_crossentropy'},\n",
        "        metrics={'bbox_output': 'mse', 'class_output': 'accuracy'}\n",
        "    )\n",
        "\n",
        "    # Define callbacks for saving the best model and early stopping to avoid overfitting\n",
        "    checkpoint = ModelCheckpoint('/content/drive/MyDrive/Dataset/Product_placement/Disorg_20.keras', save_best_only=True, monitor='class_output_loss', mode='min')\n",
        "    early_stopping = EarlyStopping(patience=10, monitor='class_output_loss', mode='min', restore_best_weights=True)\n",
        "\n",
        "    # Create an image data generator with augmentation parameters to enhance the training dataset\n",
        "    datagen = ImageDataGenerator(\n",
        "        rotation_range=30,\n",
        "        width_shift_range=0.3,\n",
        "        height_shift_range=0.3,\n",
        "        shear_range=0.3,\n",
        "        zoom_range=0.3,\n",
        "        horizontal_flip=True,\n",
        "        vertical_flip=True,\n",
        "        fill_mode='nearest'\n",
        "    )\n",
        "\n",
        "    # Create a data generator that yields batches of augmented images and their corresponding labels and bounding boxes\n",
        "    data_generator = datagen.flow(data_resampled, batch_size=32, shuffle=True)\n",
        "    combined_gen = combined_generator(data_generator, class_labels_resampled, bboxes_resampled, max_objects, num_classes=1)\n",
        "\n",
        "    # Train the model using the combined generator\n",
        "    history = model.fit(\n",
        "        combined_gen,  # Training data generator\n",
        "        steps_per_epoch=len(data_resampled) // 32,  # Number of steps per epoch\n",
        "        epochs=epochs,  # Number of epochs to train the model\n",
        "        validation_data=(data_resampled, {'class_output': class_labels_resampled, 'bbox_output': bboxes_resampled}),  # Validation data\n",
        "        callbacks=[checkpoint, early_stopping]  # Callbacks for checkpointing and early stopping\n",
        "    )\n",
        "\n",
        "    return history  # Return the history of the training process"
      ]
    },
    {
      "cell_type": "markdown",
      "metadata": {
        "id": "-jwfVhslrQ6C"
      },
      "source": [
        "### Training The Model"
      ]
    },
    {
      "cell_type": "code",
      "execution_count": 10,
      "metadata": {
        "id": "phKy0_gXrJ2o",
        "colab": {
          "base_uri": "https://localhost:8080/"
        },
        "outputId": "2abcd6b7-1537-4bc7-8fa6-ccdcacae4def"
      },
      "outputs": [
        {
          "output_type": "stream",
          "name": "stdout",
          "text": [
            "Downloading data from https://storage.googleapis.com/tensorflow/keras-applications/resnet/resnet50_weights_tf_dim_ordering_tf_kernels_notop.h5\n",
            "94765736/94765736 [==============================] - 1s 0us/step\n",
            "Epoch 1/30\n",
            "14/14 [==============================] - 46s 1s/step - loss: 14.8565 - bbox_output_loss: 0.3000 - class_output_loss: 1.1473 - bbox_output_mse: 0.3000 - class_output_accuracy: 0.5276 - val_loss: 13.9870 - val_bbox_output_loss: 0.1706 - val_class_output_loss: 0.6731 - val_bbox_output_mse: 0.1706 - val_class_output_accuracy: 0.6040\n",
            "Epoch 2/30\n",
            "14/14 [==============================] - 17s 1s/step - loss: 14.0953 - bbox_output_loss: 0.2481 - class_output_loss: 0.9292 - bbox_output_mse: 0.2481 - class_output_accuracy: 0.6004 - val_loss: 13.3685 - val_bbox_output_loss: 0.1217 - val_class_output_loss: 0.5600 - val_bbox_output_mse: 0.1217 - val_class_output_accuracy: 0.7113\n",
            "Epoch 3/30\n",
            "14/14 [==============================] - 16s 1s/step - loss: 13.4012 - bbox_output_loss: 0.2039 - class_output_loss: 0.7284 - bbox_output_mse: 0.2039 - class_output_accuracy: 0.6781 - val_loss: 12.8092 - val_bbox_output_loss: 0.0881 - val_class_output_loss: 0.4803 - val_bbox_output_mse: 0.0881 - val_class_output_accuracy: 0.7934\n",
            "Epoch 4/30\n",
            "14/14 [==============================] - 14s 1s/step - loss: 12.8231 - bbox_output_loss: 0.1661 - class_output_loss: 0.6291 - bbox_output_mse: 0.1661 - class_output_accuracy: 0.7242 - val_loss: 12.2864 - val_bbox_output_loss: 0.0674 - val_class_output_loss: 0.4171 - val_bbox_output_mse: 0.0674 - val_class_output_accuracy: 0.8612\n",
            "Epoch 5/30\n",
            "14/14 [==============================] - 14s 1s/step - loss: 12.2880 - bbox_output_loss: 0.1401 - class_output_loss: 0.5538 - bbox_output_mse: 0.1401 - class_output_accuracy: 0.7640 - val_loss: 11.8162 - val_bbox_output_loss: 0.0561 - val_class_output_loss: 0.3899 - val_bbox_output_mse: 0.0561 - val_class_output_accuracy: 0.8792\n",
            "Epoch 6/30\n",
            "14/14 [==============================] - 14s 1s/step - loss: 11.7926 - bbox_output_loss: 0.1166 - class_output_loss: 0.5087 - bbox_output_mse: 0.1166 - class_output_accuracy: 0.7953 - val_loss: 11.3490 - val_bbox_output_loss: 0.0456 - val_class_output_loss: 0.3588 - val_bbox_output_mse: 0.0456 - val_class_output_accuracy: 0.8863\n",
            "Epoch 7/30\n",
            "14/14 [==============================] - 12s 889ms/step - loss: 11.3399 - bbox_output_loss: 0.0991 - class_output_loss: 0.4935 - bbox_output_mse: 0.0991 - class_output_accuracy: 0.8088 - val_loss: 10.9001 - val_bbox_output_loss: 0.0385 - val_class_output_loss: 0.3339 - val_bbox_output_mse: 0.0385 - val_class_output_accuracy: 0.8880\n",
            "Epoch 8/30\n",
            "14/14 [==============================] - 14s 1s/step - loss: 10.8843 - bbox_output_loss: 0.0870 - class_output_loss: 0.4606 - bbox_output_mse: 0.0870 - class_output_accuracy: 0.8211 - val_loss: 10.4723 - val_bbox_output_loss: 0.0337 - val_class_output_loss: 0.3184 - val_bbox_output_mse: 0.0337 - val_class_output_accuracy: 0.8867\n",
            "Epoch 9/30\n",
            "14/14 [==============================] - 14s 1s/step - loss: 10.4408 - bbox_output_loss: 0.0758 - class_output_loss: 0.4295 - bbox_output_mse: 0.0758 - class_output_accuracy: 0.8332 - val_loss: 10.0529 - val_bbox_output_loss: 0.0296 - val_class_output_loss: 0.3009 - val_bbox_output_mse: 0.0296 - val_class_output_accuracy: 0.8896\n",
            "Epoch 10/30\n",
            "14/14 [==============================] - 14s 1s/step - loss: 10.0278 - bbox_output_loss: 0.0681 - class_output_loss: 0.4157 - bbox_output_mse: 0.0681 - class_output_accuracy: 0.8403 - val_loss: 9.6498 - val_bbox_output_loss: 0.0266 - val_class_output_loss: 0.2889 - val_bbox_output_mse: 0.0266 - val_class_output_accuracy: 0.8865\n",
            "Epoch 11/30\n",
            "14/14 [==============================] - 16s 1s/step - loss: 9.6333 - bbox_output_loss: 0.0618 - class_output_loss: 0.4097 - bbox_output_mse: 0.0618 - class_output_accuracy: 0.8491 - val_loss: 9.2548 - val_bbox_output_loss: 0.0245 - val_class_output_loss: 0.2745 - val_bbox_output_mse: 0.0245 - val_class_output_accuracy: 0.8927\n",
            "Epoch 12/30\n",
            "14/14 [==============================] - 15s 1s/step - loss: 9.2358 - bbox_output_loss: 0.0553 - class_output_loss: 0.3907 - bbox_output_mse: 0.0553 - class_output_accuracy: 0.8491 - val_loss: 8.8742 - val_bbox_output_loss: 0.0232 - val_class_output_loss: 0.2630 - val_bbox_output_mse: 0.0232 - val_class_output_accuracy: 0.8917\n",
            "Epoch 13/30\n",
            "14/14 [==============================] - 13s 938ms/step - loss: 8.8598 - bbox_output_loss: 0.0522 - class_output_loss: 0.3789 - bbox_output_mse: 0.0522 - class_output_accuracy: 0.8549 - val_loss: 8.5092 - val_bbox_output_loss: 0.0222 - val_class_output_loss: 0.2557 - val_bbox_output_mse: 0.0222 - val_class_output_accuracy: 0.8925\n",
            "Epoch 14/30\n",
            "14/14 [==============================] - 13s 1s/step - loss: 8.5005 - bbox_output_loss: 0.0482 - class_output_loss: 0.3743 - bbox_output_mse: 0.0482 - class_output_accuracy: 0.8549 - val_loss: 8.1572 - val_bbox_output_loss: 0.0216 - val_class_output_loss: 0.2507 - val_bbox_output_mse: 0.0216 - val_class_output_accuracy: 0.8958\n",
            "Epoch 15/30\n",
            "14/14 [==============================] - 13s 972ms/step - loss: 8.1508 - bbox_output_loss: 0.0465 - class_output_loss: 0.3665 - bbox_output_mse: 0.0465 - class_output_accuracy: 0.8575 - val_loss: 7.8198 - val_bbox_output_loss: 0.0214 - val_class_output_loss: 0.2491 - val_bbox_output_mse: 0.0214 - val_class_output_accuracy: 0.8925\n",
            "Epoch 16/30\n",
            "14/14 [==============================] - 18s 1s/step - loss: 7.8043 - bbox_output_loss: 0.0427 - class_output_loss: 0.3636 - bbox_output_mse: 0.0427 - class_output_accuracy: 0.8580 - val_loss: 7.4951 - val_bbox_output_loss: 0.0211 - val_class_output_loss: 0.2490 - val_bbox_output_mse: 0.0211 - val_class_output_accuracy: 0.8934\n",
            "Epoch 17/30\n",
            "14/14 [==============================] - 13s 969ms/step - loss: 7.4733 - bbox_output_loss: 0.0424 - class_output_loss: 0.3610 - bbox_output_mse: 0.0424 - class_output_accuracy: 0.8569 - val_loss: 7.1794 - val_bbox_output_loss: 0.0209 - val_class_output_loss: 0.2466 - val_bbox_output_mse: 0.0209 - val_class_output_accuracy: 0.8948\n",
            "Epoch 18/30\n",
            "14/14 [==============================] - 14s 1s/step - loss: 7.1583 - bbox_output_loss: 0.0398 - class_output_loss: 0.3550 - bbox_output_mse: 0.0398 - class_output_accuracy: 0.8589 - val_loss: 6.8740 - val_bbox_output_loss: 0.0208 - val_class_output_loss: 0.2433 - val_bbox_output_mse: 0.0208 - val_class_output_accuracy: 0.8930\n",
            "Epoch 19/30\n",
            "14/14 [==============================] - 14s 1s/step - loss: 6.8459 - bbox_output_loss: 0.0379 - class_output_loss: 0.3399 - bbox_output_mse: 0.0379 - class_output_accuracy: 0.8677 - val_loss: 6.5820 - val_bbox_output_loss: 0.0209 - val_class_output_loss: 0.2424 - val_bbox_output_mse: 0.0209 - val_class_output_accuracy: 0.8977\n",
            "Epoch 20/30\n",
            "14/14 [==============================] - 9s 690ms/step - loss: 6.5650 - bbox_output_loss: 0.0375 - class_output_loss: 0.3444 - bbox_output_mse: 0.0375 - class_output_accuracy: 0.8672 - val_loss: 6.2996 - val_bbox_output_loss: 0.0205 - val_class_output_loss: 0.2414 - val_bbox_output_mse: 0.0205 - val_class_output_accuracy: 0.8963\n",
            "Epoch 21/30\n",
            "14/14 [==============================] - 15s 1s/step - loss: 6.2749 - bbox_output_loss: 0.0370 - class_output_loss: 0.3298 - bbox_output_mse: 0.0370 - class_output_accuracy: 0.8701 - val_loss: 6.0276 - val_bbox_output_loss: 0.0202 - val_class_output_loss: 0.2405 - val_bbox_output_mse: 0.0202 - val_class_output_accuracy: 0.8928\n",
            "Epoch 22/30\n",
            "14/14 [==============================] - 12s 916ms/step - loss: 6.0103 - bbox_output_loss: 0.0356 - class_output_loss: 0.3314 - bbox_output_mse: 0.0356 - class_output_accuracy: 0.8671 - val_loss: 5.7678 - val_bbox_output_loss: 0.0202 - val_class_output_loss: 0.2415 - val_bbox_output_mse: 0.0202 - val_class_output_accuracy: 0.8942\n",
            "Epoch 23/30\n",
            "14/14 [==============================] - 13s 960ms/step - loss: 5.7528 - bbox_output_loss: 0.0346 - class_output_loss: 0.3299 - bbox_output_mse: 0.0346 - class_output_accuracy: 0.8681 - val_loss: 5.5150 - val_bbox_output_loss: 0.0201 - val_class_output_loss: 0.2397 - val_bbox_output_mse: 0.0201 - val_class_output_accuracy: 0.8955\n",
            "Epoch 24/30\n",
            "14/14 [==============================] - 13s 935ms/step - loss: 5.5038 - bbox_output_loss: 0.0350 - class_output_loss: 0.3258 - bbox_output_mse: 0.0350 - class_output_accuracy: 0.8722 - val_loss: 5.2719 - val_bbox_output_loss: 0.0201 - val_class_output_loss: 0.2376 - val_bbox_output_mse: 0.0201 - val_class_output_accuracy: 0.8959\n",
            "Epoch 25/30\n",
            "14/14 [==============================] - 16s 1s/step - loss: 5.2586 - bbox_output_loss: 0.0332 - class_output_loss: 0.3180 - bbox_output_mse: 0.0332 - class_output_accuracy: 0.8733 - val_loss: 5.0401 - val_bbox_output_loss: 0.0200 - val_class_output_loss: 0.2378 - val_bbox_output_mse: 0.0200 - val_class_output_accuracy: 0.8923\n",
            "Epoch 26/30\n",
            "14/14 [==============================] - 14s 1s/step - loss: 5.0278 - bbox_output_loss: 0.0321 - class_output_loss: 0.3150 - bbox_output_mse: 0.0321 - class_output_accuracy: 0.8713 - val_loss: 4.8178 - val_bbox_output_loss: 0.0199 - val_class_output_loss: 0.2382 - val_bbox_output_mse: 0.0199 - val_class_output_accuracy: 0.8935\n",
            "Epoch 27/30\n",
            "14/14 [==============================] - 14s 1s/step - loss: 4.8073 - bbox_output_loss: 0.0318 - class_output_loss: 0.3124 - bbox_output_mse: 0.0318 - class_output_accuracy: 0.8726 - val_loss: 4.6023 - val_bbox_output_loss: 0.0199 - val_class_output_loss: 0.2363 - val_bbox_output_mse: 0.0199 - val_class_output_accuracy: 0.8944\n",
            "Epoch 28/30\n",
            "14/14 [==============================] - 9s 699ms/step - loss: 4.6067 - bbox_output_loss: 0.0315 - class_output_loss: 0.3209 - bbox_output_mse: 0.0315 - class_output_accuracy: 0.8762 - val_loss: 4.3950 - val_bbox_output_loss: 0.0198 - val_class_output_loss: 0.2342 - val_bbox_output_mse: 0.0198 - val_class_output_accuracy: 0.8949\n",
            "Epoch 29/30\n",
            "14/14 [==============================] - 14s 1s/step - loss: 4.3991 - bbox_output_loss: 0.0306 - class_output_loss: 0.3146 - bbox_output_mse: 0.0306 - class_output_accuracy: 0.8754 - val_loss: 4.1983 - val_bbox_output_loss: 0.0197 - val_class_output_loss: 0.2340 - val_bbox_output_mse: 0.0197 - val_class_output_accuracy: 0.8956\n",
            "Epoch 30/30\n",
            "14/14 [==============================] - 13s 1s/step - loss: 4.1914 - bbox_output_loss: 0.0307 - class_output_loss: 0.2987 - bbox_output_mse: 0.0307 - class_output_accuracy: 0.8751 - val_loss: 4.0119 - val_bbox_output_loss: 0.0197 - val_class_output_loss: 0.2357 - val_bbox_output_mse: 0.0197 - val_class_output_accuracy: 0.8968\n"
          ]
        },
        {
          "output_type": "execute_result",
          "data": {
            "text/plain": [
              "<keras.src.callbacks.History at 0x7e3a200dd3f0>"
            ]
          },
          "metadata": {},
          "execution_count": 10
        }
      ],
      "source": [
        "# Example usage\n",
        "input_shape = (300, 300, 3)  # Define the input shape of the images\n",
        "model = create_resnet50_backbone(input_shape)  # Create the ResNet50-based model\n",
        "train_data_dir = '/content/drive/MyDrive/Dataset/Product_placement/train/Images'  # Define the directory for training images\n",
        "train_annotations_dir = '/content/drive/MyDrive/Dataset/Product_placement/train/Annotations'  # Define the directory for training annotations\n",
        "compile_and_train_model(model, train_data_dir, train_annotations_dir)  # Compile and train the model"
      ]
    },
    {
      "cell_type": "markdown",
      "metadata": {
        "id": "yllYysQ5xnva"
      },
      "source": [
        "## **Model Prediction**"
      ]
    },
    {
      "cell_type": "markdown",
      "metadata": {
        "id": "y6bJEv0RttpK"
      },
      "source": [
        "### Loading and Preparing the test data"
      ]
    },
    {
      "cell_type": "code",
      "execution_count": 11,
      "metadata": {
        "id": "2Xan135DwUD1",
        "colab": {
          "base_uri": "https://localhost:8080/"
        },
        "outputId": "f16248b1-f323-4e3e-de57-ded6597a805b"
      },
      "outputs": [
        {
          "output_type": "stream",
          "name": "stdout",
          "text": [
            "Label counts: {'Disorganized': 428}\n"
          ]
        }
      ],
      "source": [
        "# Load the test dataset\n",
        "test_images_dir = '/content/drive/MyDrive/Dataset/Product_placement/test/Images'\n",
        "test_annotations_dir = '/content/drive/MyDrive/Dataset/Product_placement/test/Annotations'\n",
        "\n",
        "# Using the already defined create_padded_dataset to prepare the data\n",
        "test_images, test_labels, test_bboxes, test_filenames, object_counts = create_padded_dataset(test_images_dir, test_annotations_dir)\n",
        "\n",
        "# Counting the frequency of labels\n",
        "def count_labels(test_labels, object_counts):\n",
        "    label_counts = {'Disorganized': 0}\n",
        "\n",
        "    for labels, count in zip(test_labels, object_counts):\n",
        "        for i in range(count):  # Iterate through each object's labels up to the actual object count\n",
        "            if labels[i][0] == 1:  # Check if the single-class label is present\n",
        "                label_counts['Disorganized'] += 1\n",
        "\n",
        "    return label_counts\n",
        "\n",
        "label_counts = count_labels(test_labels, object_counts)\n",
        "print(\"Label counts:\", label_counts)"
      ]
    },
    {
      "cell_type": "markdown",
      "metadata": {
        "id": "5q6ECP9lx3Mm"
      },
      "source": [
        "### Loading the model, extraxting the model predictions and getting the frequency of model label predictions"
      ]
    },
    {
      "cell_type": "code",
      "execution_count": 12,
      "metadata": {
        "id": "5Jzn32BJxxOL",
        "colab": {
          "base_uri": "https://localhost:8080/"
        },
        "outputId": "5666a404-354d-47e6-8de6-da4c35da6d25"
      },
      "outputs": [
        {
          "output_type": "stream",
          "name": "stdout",
          "text": [
            "4/4 [==============================] - 4s 859ms/step\n",
            "Predicted Label Counts: {'Disorganized': 298}\n"
          ]
        }
      ],
      "source": [
        "import numpy as np\n",
        "from keras.models import load_model\n",
        "\n",
        "# Loading the trained model\n",
        "model = load_model('/content/drive/MyDrive/Dataset/Product_placement/Disorg_20.keras')\n",
        "\n",
        "# Predict using the model\n",
        "predictions = model.predict(test_images)\n",
        "bbox_predictions, class_predictions = predictions[0], predictions[1]\n",
        "\n",
        "# Function to count predicted labels\n",
        "def count_predicted_labels(predicted_labels, object_counts):\n",
        "    label_counts = {'Disorganized': 0}\n",
        "\n",
        "    for labels, count in zip(predicted_labels, object_counts):\n",
        "        for i in range(count):  # Iterate through each object's labels up to the actual object count\n",
        "            if labels[i][0] == 1:  # Check if the single-class label is present\n",
        "                label_counts['Disorganized'] += 1\n",
        "\n",
        "    return label_counts\n",
        "\n",
        "# Function to denormalize bounding boxes\n",
        "def denormalize_bounding_boxes(bboxes, original_width, original_height):\n",
        "    denormalized_bboxes = []\n",
        "    for bbox in bboxes:\n",
        "        x, y, width, height = bbox\n",
        "        denormalized_bboxes.append([\n",
        "            x * original_width,\n",
        "            y * original_height,\n",
        "            width * original_width,\n",
        "            height * original_height\n",
        "        ])\n",
        "    return denormalized_bboxes\n",
        "\n",
        "# Initialize the count for predicted labels\n",
        "predicted_label_counts = {'Disorganized': 0}\n",
        "\n",
        "# Iterate over each test sample and print the results\n",
        "for i in range(len(test_filenames)):\n",
        "    # Get the predicted bounding boxes and class scores for this image\n",
        "    predicted_bboxes = bbox_predictions[i]\n",
        "    predicted_scores = class_predictions[i]\n",
        "\n",
        "    # Denormalize bounding boxes (assuming the original image size is 300x300)\n",
        "    denormalized_bboxes = denormalize_bounding_boxes(predicted_bboxes, 300, 300)\n",
        "\n",
        "    for j in range(object_counts[i]):  # Only consider the actual objects, ignore padding\n",
        "        bbox = denormalized_bboxes[j]\n",
        "        class_score = predicted_scores[j]\n",
        "\n",
        "        # Get the predicted class label and its score\n",
        "        predicted_class_label = 'Disorganized' if class_score[0] >= 0.5 else 'Organized'\n",
        "        predicted_class_score = class_score[0]\n",
        "\n",
        "        # Update the count for the predicted label if it is 'Disorganized'\n",
        "        if predicted_class_label == 'Disorganized':\n",
        "            predicted_label_counts['Disorganized'] += 1\n",
        "\n",
        "print(f\"Predicted Label Counts: {predicted_label_counts}\")"
      ]
    },
    {
      "cell_type": "markdown",
      "metadata": {
        "id": "6SYeMjtm0Aaa"
      },
      "source": [
        "## **Evaluation**"
      ]
    },
    {
      "cell_type": "markdown",
      "metadata": {
        "id": "J0xb_N7TB5UL"
      },
      "source": [
        "### Precision-Recall Curve\n",
        "A precision-recall curve evaluates the model by visualizing the trade-off between precision and recall at a 0.5 threshold in the classification model. Precision, the ratio of true positive predictions to the total predicted positives, and recall, the ratio of true positives to all actual positives, are used to evaluate the model. The Intersection over Union (IoU) for bounding boxes, along with true positives, false positives, and false negatives, is calculated. The precision-recall curves for each category, providing Average Precision (AP) values, visualize the model's performance on 'Disorganized' and 'Empty' classes."
      ]
    },
    {
      "cell_type": "code",
      "execution_count": 13,
      "metadata": {
        "id": "i6NFE7v6z9Tk",
        "colab": {
          "base_uri": "https://localhost:8080/",
          "height": 427
        },
        "outputId": "2e06fa48-93fd-41e9-8c18-836af2358742"
      },
      "outputs": [
        {
          "output_type": "stream",
          "name": "stdout",
          "text": [
            "Precision: 0.67, Recall: 0.09\n"
          ]
        },
        {
          "output_type": "display_data",
          "data": {
            "text/plain": [
              "<Figure size 600x400 with 1 Axes>"
            ],
            "image/png": "[encoded data removed]"
          },
          "metadata": {}
        }
      ],
      "source": [
        "import numpy as np\n",
        "import matplotlib.pyplot as plt\n",
        "from sklearn.metrics import precision_recall_curve, average_precision_score\n",
        "\n",
        "# Function to calculate Intersection over Union (IoU)\n",
        "def calculate_iou(boxA, boxB):\n",
        "    xA = max(boxA[0], boxB[0])\n",
        "    yA = max(boxA[1], boxB[1])\n",
        "    xB = min(boxA[2], boxB[2])\n",
        "    yB = min(boxA[3], boxB[3])\n",
        "\n",
        "    interArea = max(0, xB - xA + 1) * max(0, yB - yA + 1)\n",
        "    boxAArea = (boxA[2] - boxA[0] + 1) * (boxA[3] - boxA[1] + 1)\n",
        "    boxBArea = (boxB[2] - boxB[0] + 1) * (boxB[3] - boxB[1] + 1)\n",
        "\n",
        "    iou = interArea / float(boxAArea + boxBArea - interArea)\n",
        "    return iou\n",
        "\n",
        "# Function to count true positives, false positives, and false negatives based on IoU threshold\n",
        "def count_detections(true_bboxes, predicted_bboxes, predicted_labels, object_counts, iou_threshold=0.5):\n",
        "    tp, fp, fn = 0, 0, 0\n",
        "\n",
        "    for i in range(len(true_bboxes)):\n",
        "        true_boxes = true_bboxes[i]\n",
        "        pred_boxes = predicted_bboxes[i]\n",
        "        true_count = len(true_boxes)\n",
        "        pred_count = object_counts[i]\n",
        "\n",
        "        matched = np.zeros(true_count, dtype=bool)\n",
        "\n",
        "        for j in range(pred_count):\n",
        "            pred_box = pred_boxes[j]\n",
        "            pred_label = predicted_labels[i][j][0] >= 0.5  # Check if predicted label is 'Empty'\n",
        "\n",
        "            if pred_label:\n",
        "                for k in range(true_count):\n",
        "                    if matched[k]:\n",
        "                        continue\n",
        "                    iou = calculate_iou(pred_box, true_boxes[k])\n",
        "                    if iou >= iou_threshold:\n",
        "                        matched[k] = True\n",
        "                        tp += 1\n",
        "                        break\n",
        "                else:\n",
        "                    fp += 1\n",
        "\n",
        "        fn += np.sum(~matched)\n",
        "\n",
        "    return tp, fp, fn\n",
        "\n",
        "# Calculating metrics including bounding box predictions\n",
        "def calculate_bbox_metrics(true_bboxes, predicted_bboxes, predicted_labels, object_counts, iou_threshold=0.5):\n",
        "    tp, fp, fn = count_detections(true_bboxes, predicted_bboxes, predicted_labels, object_counts, iou_threshold)\n",
        "\n",
        "    precision = tp / (tp + fp) if (tp + fp) > 0 else 0\n",
        "    recall = tp / (tp + fn) if (tp + fn) > 0 else 0\n",
        "\n",
        "    return precision, recall\n",
        "\n",
        "precision, recall = calculate_bbox_metrics(test_bboxes, bbox_predictions, class_predictions, object_counts)\n",
        "\n",
        "# Printing the results\n",
        "print(f\"Precision: {precision:.2f}, Recall: {recall:.2f}\")\n",
        "\n",
        "# Plotting Precision-Recall curve\n",
        "def plot_bbox_precision_recall_curve(true_bboxes, predicted_bboxes, predicted_labels, object_counts, iou_threshold=0.5):\n",
        "    plt.figure(figsize=(6, 4))\n",
        "\n",
        "    # Creating binary labels for the 'Empty' category based on IoU threshold\n",
        "    true_binary_labels = []\n",
        "    predicted_scores = []\n",
        "\n",
        "    for i in range(len(true_bboxes)):\n",
        "        true_boxes = true_bboxes[i]\n",
        "        pred_boxes = predicted_bboxes[i]\n",
        "        pred_labels = predicted_labels[i]\n",
        "        true_count = len(true_boxes)\n",
        "        pred_count = object_counts[i]\n",
        "\n",
        "        for j in range(pred_count):\n",
        "            pred_box = pred_boxes[j]\n",
        "            score = pred_labels[j][0]  # Confidence score for 'Empty'\n",
        "            best_iou = 0\n",
        "\n",
        "            for k in range(true_count):\n",
        "                iou = calculate_iou(pred_box, true_boxes[k])\n",
        "                best_iou = max(best_iou, iou)\n",
        "\n",
        "            predicted_scores.append(score)\n",
        "            true_binary_labels.append(best_iou >= iou_threshold)\n",
        "\n",
        "    precision, recall, _ = precision_recall_curve(true_binary_labels, predicted_scores)\n",
        "    ap = average_precision_score(true_binary_labels, predicted_scores)\n",
        "\n",
        "    plt.plot(recall, precision, label='Disorganized AP={:.2f}'.format(ap))\n",
        "    plt.xlabel('Recall')\n",
        "    plt.ylabel('Precision')\n",
        "    plt.title('Precision-Recall curve for Best Model')\n",
        "    plt.grid(True)\n",
        "    plt.xlim([0.0, 1.0])\n",
        "    plt.ylim([0.0, 1.05])\n",
        "    plt.legend(loc='lower right')\n",
        "    plt.show()\n",
        "\n",
        "# Plotting the Precision-Recall curve\n",
        "plot_bbox_precision_recall_curve(test_bboxes, bbox_predictions, class_predictions, object_counts)\n"
      ]
    },
    {
      "cell_type": "markdown",
      "metadata": {
        "id": "mI6Vy60HCEqi"
      },
      "source": [
        "### Confusion Matrix Plot\n",
        "This code plots a confusion matrix to evaluate the performance of an object detection model. It compares the true and predicted bounding boxes, using an Intersection over Union (IoU) threshold of 0.5 to determine matches. The function calculates true and predicted labels, constructs a confusion matrix which then visualizes the model's accuracy in classifying 'Disorganized' and 'Empty' categories, highlighting true positives, false positives, and false negatives."
      ]
    },
    {
      "cell_type": "code",
      "execution_count": 14,
      "metadata": {
        "id": "sYA6XyJ21O9t",
        "colab": {
          "base_uri": "https://localhost:8080/",
          "height": 472
        },
        "outputId": "217f029b-d035-4f00-9574-720425432ccf"
      },
      "outputs": [
        {
          "output_type": "display_data",
          "data": {
            "text/plain": [
              "<Figure size 640x480 with 2 Axes>"
            ],
            "image/png": "[encoded data removed]"
          },
          "metadata": {}
        }
      ],
      "source": [
        "import numpy as np\n",
        "import matplotlib.pyplot as plt\n",
        "from sklearn.metrics import confusion_matrix, ConfusionMatrixDisplay\n",
        "\n",
        "# Function to plot Confusion Matrix\n",
        "def plot_confusion_matrix(true_bboxes, predicted_bboxes, predicted_labels, object_counts, iou_threshold=0.5):\n",
        "    true_labels = []\n",
        "    pred_labels = []\n",
        "\n",
        "    for i in range(len(true_bboxes)):\n",
        "        true_boxes = true_bboxes[i]\n",
        "        pred_boxes = predicted_bboxes[i]\n",
        "        pred_label_scores = predicted_labels[i]\n",
        "        true_count = len(true_boxes)\n",
        "        pred_count = object_counts[i]\n",
        "\n",
        "        matched = np.zeros(true_count, dtype=bool)\n",
        "\n",
        "        for j in range(pred_count):\n",
        "            pred_box = pred_boxes[j]\n",
        "            pred_label = int(pred_label_scores[j][0] >= 0.5)  # Binary label: 0 or 1\n",
        "\n",
        "            best_iou = 0\n",
        "            true_label = None\n",
        "            for k in range(true_count):\n",
        "                if matched[k]:\n",
        "                    continue\n",
        "                iou = calculate_iou(pred_box, true_boxes[k])\n",
        "                if iou > best_iou:\n",
        "                    best_iou = iou\n",
        "                    true_label = k\n",
        "\n",
        "            if best_iou >= iou_threshold and true_label is not None:\n",
        "                matched[true_label] = True\n",
        "                true_labels.append(1)  # True label is 'Empty'\n",
        "                pred_labels.append(pred_label)\n",
        "            else:\n",
        "                pred_labels.append(pred_label)\n",
        "                true_labels.append(0)  # Consider as false positive (no empty shelf)\n",
        "\n",
        "    # Calculating and plotting the confusion matrix\n",
        "    cm = confusion_matrix(true_labels, pred_labels, labels=[0, 1])\n",
        "    disp = ConfusionMatrixDisplay(confusion_matrix=cm, display_labels=['Organized', 'Disrganized'])\n",
        "    disp.plot(cmap=plt.cm.Blues)\n",
        "    plt.title('Confusion Matrix for Best Model')\n",
        "    plt.show()\n",
        "\n",
        "# Define the category\n",
        "categories = {0: 'Organized', 1: 'Disorganized'}\n",
        "\n",
        "# Plotting the Confusion Matrix\n",
        "plot_confusion_matrix(test_bboxes, bbox_predictions, class_predictions, object_counts)\n"
      ]
    },
    {
      "cell_type": "markdown",
      "metadata": {
        "id": "-tL4ZsE3CLpq"
      },
      "source": [
        "### Classification Report\n",
        "The model's classification performance using Precision, Recall and F1-Score is computed using the standard 0.5 threshold"
      ]
    },
    {
      "cell_type": "code",
      "execution_count": 15,
      "metadata": {
        "id": "rrC042fDAmTx",
        "colab": {
          "base_uri": "https://localhost:8080/"
        },
        "outputId": "c587df5c-ca46-44c9-c615-bc763967e208"
      },
      "outputs": [
        {
          "output_type": "stream",
          "name": "stdout",
          "text": [
            "|              |   precision |   recall |   f1-score |\n",
            "|:-------------|------------:|---------:|-----------:|\n",
            "| Organized    |   0.0384615 | 0.047619 |  0.0425532 |\n",
            "| DisOrganized |   0.66443   | 0.613003 |  0.637681  |\n",
            "| accuracy     |   0.474299  | 0.474299 |  0.474299  |\n",
            "| macro avg    |   0.351446  | 0.330311 |  0.340117  |\n",
            "| weighted avg |   0.510863  | 0.474299 |  0.49168   |\n"
          ]
        }
      ],
      "source": [
        "import numpy as np\n",
        "from sklearn.metrics import classification_report\n",
        "\n",
        "# Function to generate the classification report\n",
        "def generate_classification_report(true_bboxes, predicted_bboxes, predicted_labels, object_counts, iou_threshold=0.5):\n",
        "    true_labels = []\n",
        "    pred_labels = []\n",
        "\n",
        "    for i in range(len(true_bboxes)):\n",
        "        true_boxes = true_bboxes[i]\n",
        "        pred_boxes = predicted_bboxes[i]\n",
        "        pred_label_scores = predicted_labels[i]\n",
        "        true_count = len(true_boxes)\n",
        "        pred_count = object_counts[i]\n",
        "\n",
        "        matched = np.zeros(true_count, dtype=bool)\n",
        "\n",
        "        for j in range(pred_count):\n",
        "            pred_box = pred_boxes[j]\n",
        "            pred_label = int(pred_label_scores[j][0] >= 0.5)  # Binary label: 0 or 1\n",
        "\n",
        "            best_iou = 0\n",
        "            true_label = None\n",
        "            for k in range(true_count):\n",
        "                if matched[k]:\n",
        "                    continue\n",
        "                iou = calculate_iou(pred_box, true_boxes[k])\n",
        "                if iou > best_iou:\n",
        "                    best_iou = iou\n",
        "                    true_label = k\n",
        "\n",
        "            if best_iou >= iou_threshold and true_label is not None:\n",
        "                matched[true_label] = True\n",
        "                true_labels.append(1)  # True label is 'Empty'\n",
        "                pred_labels.append(pred_label)\n",
        "            else:\n",
        "                pred_labels.append(pred_label)\n",
        "                true_labels.append(0)  # Consider as false positive (no empty shelf)\n",
        "\n",
        "    # Filtering out the unmatched predictions from the classification report\n",
        "    valid_indices = [i for i in range(len(true_labels)) if true_labels[i] != -1]\n",
        "    true_labels = [true_labels[i] for i in valid_indices]\n",
        "    pred_labels = [pred_labels[i] for i in valid_indices]\n",
        "\n",
        "    # Generating the classification report\n",
        "    report = classification_report(true_labels, pred_labels, labels=[0, 1], target_names=['Organized', 'DisOrganized'], output_dict=True)\n",
        "\n",
        "    return report\n",
        "\n",
        "# Generating the classification report\n",
        "report = generate_classification_report(test_bboxes, bbox_predictions, class_predictions, object_counts)\n",
        "\n",
        "# Displaying the classification report in table form\n",
        "import pandas as pd\n",
        "\n",
        "report_df = pd.DataFrame(report).transpose()\n",
        "\n",
        "# Printing the dataframe as a table\n",
        "print(report_df[['precision', 'recall', 'f1-score']].to_markdown())\n"
      ]
    }
  ],
  "metadata": {
    "accelerator": "GPU",
    "colab": {
      "gpuType": "T4",
      "provenance": []
    },
    "kernelspec": {
      "display_name": "Python 3",
      "name": "python3"
    },
    "language_info": {
      "name": "python"
    }
  },
  "nbformat": 4,
  "nbformat_minor": 0
}